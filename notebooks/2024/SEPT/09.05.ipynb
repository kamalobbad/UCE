{
 "cells": [
  {
   "cell_type": "code",
   "execution_count": 1,
   "metadata": {},
   "outputs": [],
   "source": [
    "import os\n",
    "os.chdir(\"/oak/stanford/groups/akundaje/kobbad/UCE\")\n",
    "from model import *\n",
    "import scanpy as sc\n",
    "from tqdm.auto import tqdm\n",
    "from torch import nn, Tensor\n",
    "from evaluate import get_ESM2_embeddings\n",
    "from utils import get_ESM2_embeddings_x\n",
    "import argparse\n",
    "from accelerate import Accelerator\n",
    "from evaluate import AnndataProcessor\n",
    "from eval_data import MultiDatasetSentences, MultiDatasetSentenceCollator\n",
    "import pickle\n",
    "from torch.utils.data import DataLoader\n",
    "import torch\n",
    "import numpy as np\n",
    "import os\n",
    "os.chdir(\"/oak/stanford/groups/akundaje/kobbad/UCE\")\n",
    "from model import *\n",
    "import scanpy as sc\n",
    "from tqdm.auto import tqdm\n",
    "from torch import nn, Tensor\n",
    "from evaluate import get_ESM2_embeddings\n",
    "from utils import get_ESM2_embeddings_x\n",
    "import argparse\n",
    "from accelerate import Accelerator\n",
    "from evaluate import AnndataProcessor\n",
    "from eval_data import MultiDatasetSentences, MultiDatasetSentenceCollator\n",
    "import pickle\n",
    "from torch.utils.data import DataLoader\n",
    "import torch\n",
    "import numpy as np\n",
    "import pickle\n",
    "import pandas as pd\n",
    "import umap\n",
    "import numpy as np\n",
    "import matplotlib.pyplot as plt\n",
    "import seaborn as sns\n",
    "%matplotlib inline\n",
    "\n"
   ]
  },
  {
   "cell_type": "code",
   "execution_count": 2,
   "metadata": {},
   "outputs": [],
   "source": [
    "tf_df = pd.read_csv(\"./data/gene_attribute_matrix.txt\", sep=\"\\t\", index_col=0)\n",
    "# filter out columns 1 and 2\n",
    "tf_df = tf_df.iloc[2:, 2:]\n",
    "\n",
    "tf_df.head()\n",
    "\n",
    "df = tf_df.round(decimals=0)\n",
    "df = df.apply(pd.to_numeric, errors='coerce')\n",
    "FOS_target = df['FOS']"
   ]
  },
  {
   "cell_type": "code",
   "execution_count": 3,
   "metadata": {},
   "outputs": [
    {
     "data": {
      "text/plain": [
       "_StoreAction(option_strings=['--genes_to_pe_idx'], dest='genes_to_pe_idx', nargs=None, const=None, default='./model_files/gene_to_pe_index.pkl', type=<class 'str'>, choices=None, help='Path to gene to protein embedding index mapping', metavar=None)"
      ]
     },
     "execution_count": 3,
     "metadata": {},
     "output_type": "execute_result"
    }
   ],
   "source": [
    "parser = argparse.ArgumentParser(\n",
    "    description='Embed a single anndata using UCE.')\n",
    "\n",
    "# Anndata Processing Arguments\n",
    "parser.add_argument('--adata_path', type=str,\n",
    "                    default=None,\n",
    "                    help='Full path to the anndata you want to embed.')\n",
    "parser.add_argument('--dir', type=str,\n",
    "                    default=\"./\",\n",
    "                    help='Working folder where all files will be saved.')\n",
    "parser.add_argument('--species', type=str, default=\"human\",\n",
    "                    help='Species of the anndata.')\n",
    "parser.add_argument('--filter', type=bool, default=True,\n",
    "                    help='Additional gene/cell filtering on the anndata.')\n",
    "parser.add_argument('--skip', type=bool, default=True,\n",
    "                    help='Skip datasets that appear to have already been created.')\n",
    "\n",
    "# Model Arguments\n",
    "parser.add_argument('--model_loc', type=str,\n",
    "                    default=None,\n",
    "                    help='Location of the model.')\n",
    "parser.add_argument('--batch_size', type=int, default=25,\n",
    "                    help='Batch size.')\n",
    "parser.add_argument('--pad_length', type=int, default=1536,\n",
    "                    help='Batch size.')\n",
    "parser.add_argument(\"--pad_token_idx\", type=int, default=0,\n",
    "                    help=\"PAD token index\")\n",
    "parser.add_argument(\"--chrom_token_left_idx\", type=int, default=1,\n",
    "                    help=\"Chrom token left index\")\n",
    "parser.add_argument(\"--chrom_token_right_idx\", type=int, default=2,\n",
    "                    help=\"Chrom token right index\")\n",
    "parser.add_argument(\"--cls_token_idx\", type=int, default=3,\n",
    "                    help=\"CLS token index\")\n",
    "parser.add_argument(\"--CHROM_TOKEN_OFFSET\", type=int, default=143574,\n",
    "                    help=\"Offset index, tokens after this mark are chromosome identifiers\")\n",
    "parser.add_argument('--sample_size', type=int, default=1024,\n",
    "                    help='Number of genes sampled for cell sentence')\n",
    "parser.add_argument('--CXG', type=bool, default=True,\n",
    "                    help='Use CXG model.')\n",
    "parser.add_argument('--nlayers', type=int, default=4,\n",
    "                    help='Number of transformer layers.')\n",
    "parser.add_argument('--output_dim', type=int, default=1280,\n",
    "                    help='Output dimension.')\n",
    "parser.add_argument('--d_hid', type=int, default=5120,\n",
    "                    help='Hidden dimension.')\n",
    "parser.add_argument('--token_dim', type=int, default=5120,\n",
    "                    help='Token dimension.')\n",
    "parser.add_argument('--multi_gpu', type=bool, default=False,\n",
    "                    help='Use multiple GPUs')\n",
    "\n",
    "# Misc Arguments\n",
    "parser.add_argument(\"--spec_chrom_csv_path\",\n",
    "                    default=\"./model_files/species_chrom.csv\", type=str,\n",
    "                    help=\"CSV Path for species genes to chromosomes and start locations.\")\n",
    "parser.add_argument(\"--token_file\",\n",
    "                    default=\"./model_files/all_tokens.torch\", type=str,\n",
    "                    help=\"Path for token embeddings.\")\n",
    "parser.add_argument(\"--protein_embeddings_dir\",\n",
    "                    default=\"./model_files/protein_embeddings/\", type=str,\n",
    "                    help=\"Directory where protein embedding .pt files are stored.\")\n",
    "parser.add_argument(\"--offset_pkl_path\",\n",
    "                    default=\"./model_files/species_offsets.pkl\", type=str,\n",
    "                        help=\"PKL file which contains offsets for each species.\")\n",
    "\n",
    "# masking arguments\n",
    "parser.add_argument(\"--genes_to_mask\", \n",
    "                    nargs='+',\n",
    "                    default= None,\n",
    "                    type=str,\n",
    "                    help=\"List of genes to mask\")\n",
    "\n",
    "parser.add_argument(\"--genes_to_pe_idx\",\n",
    "                    default=\"./model_files/gene_to_pe_index.pkl\",type=str,\n",
    "                    help=\"Path to gene to protein embedding index mapping\")"
   ]
  },
  {
   "cell_type": "code",
   "execution_count": 4,
   "metadata": {},
   "outputs": [],
   "source": [
    "args = parser.parse_args()\n",
    "args.nlayers=33\n",
    "args.model_loc = \"/oak/stanford/groups/akundaje/kobbad/UCE/model_files/33_layer_model.torch\""
   ]
  },
  {
   "cell_type": "code",
   "execution_count": 5,
   "metadata": {},
   "outputs": [],
   "source": [
    "#### Set up the model ####\n",
    "token_dim = args.token_dim\n",
    "emsize = 1280  # embedding dimension\n",
    "d_hid = args.d_hid  # dimension of the feedforward network model in nn.TransformerEncoder\n",
    "nlayers = args.nlayers  # number of nn.TransformerEncoderLayer in nn.TransformerEncoder\n",
    "nhead = 20  # number of heads in nn.MultiheadAttention\n",
    "dropout = 0.05  # dropout probability\n",
    "model = TransformerModel(token_dim=token_dim, d_model=emsize, nhead=nhead,\n",
    "                            d_hid=d_hid,\n",
    "                            nlayers=nlayers, dropout=dropout,\n",
    "                            output_dim=args.output_dim)"
   ]
  },
  {
   "cell_type": "code",
   "execution_count": 6,
   "metadata": {},
   "outputs": [],
   "source": [
    "# intialize as empty\n",
    "empty_pe = torch.zeros(145469, 5120)\n",
    "empty_pe.requires_grad = False\n",
    "model.pe_embedding = nn.Embedding.from_pretrained(empty_pe)\n",
    "model.load_state_dict(torch.load(args.model_loc, map_location=\"cpu\"),\n",
    "                        strict=True)\n",
    "# Load in the real token embeddings\n",
    "all_pe = get_ESM2_embeddings(args)"
   ]
  },
  {
   "cell_type": "markdown",
   "metadata": {},
   "source": [
    "Analyze the knockouts vs controls"
   ]
  },
  {
   "cell_type": "code",
   "execution_count": 7,
   "metadata": {},
   "outputs": [],
   "source": [
    "ann_object = \"10k_pbmcs_proc_uce_adata.h5ad\"\n",
    "\n",
    "stat2_ko_adata = f\"./eval_outputs/knockouts/STAT2_KO/{ann_object}\"\n",
    "fos_ko_adata = f\"./eval_outputs/knockouts/FOS_KO/{ann_object}\"\n",
    "\n",
    "stat2_ko_adata = sc.read(stat2_ko_adata)\n",
    "fos_ko_adata = sc.read(fos_ko_adata)"
   ]
  },
  {
   "cell_type": "code",
   "execution_count": 8,
   "metadata": {},
   "outputs": [],
   "source": [
    "# read in the gene to protein embedding index mapping\n",
    "with open(args.genes_to_pe_idx, 'rb') as f:\n",
    "    gene_to_pe_idx = pickle.load(f)"
   ]
  },
  {
   "cell_type": "code",
   "execution_count": 9,
   "metadata": {},
   "outputs": [
    {
     "data": {
      "text/plain": [
       "TransformerModel(\n",
       "  (pos_encoder): PositionalEncoding(\n",
       "    (dropout): Dropout(p=0.05, inplace=False)\n",
       "  )\n",
       "  (encoder): Sequential(\n",
       "    (0): Linear(in_features=5120, out_features=1280, bias=True)\n",
       "    (1): GELU(approximate='none')\n",
       "    (2): LayerNorm((1280,), eps=1e-05, elementwise_affine=True)\n",
       "  )\n",
       "  (transformer_encoder): TransformerEncoder(\n",
       "    (layers): ModuleList(\n",
       "      (0-32): 33 x TransformerEncoderLayer(\n",
       "        (self_attn): MultiheadAttention(\n",
       "          (out_proj): NonDynamicallyQuantizableLinear(in_features=1280, out_features=1280, bias=True)\n",
       "        )\n",
       "        (linear1): Linear(in_features=1280, out_features=5120, bias=True)\n",
       "        (dropout): Dropout(p=0.05, inplace=False)\n",
       "        (linear2): Linear(in_features=5120, out_features=1280, bias=True)\n",
       "        (norm1): LayerNorm((1280,), eps=1e-05, elementwise_affine=True)\n",
       "        (norm2): LayerNorm((1280,), eps=1e-05, elementwise_affine=True)\n",
       "        (dropout1): Dropout(p=0.05, inplace=False)\n",
       "        (dropout2): Dropout(p=0.05, inplace=False)\n",
       "      )\n",
       "    )\n",
       "  )\n",
       "  (decoder): Sequential(\n",
       "    (0): Sequential(\n",
       "      (0): Linear(in_features=1280, out_features=1024, bias=True)\n",
       "      (1): LayerNorm((1024,), eps=1e-05, elementwise_affine=True)\n",
       "      (2): GELU(approximate='none')\n",
       "      (3): Dropout(p=0.05, inplace=False)\n",
       "    )\n",
       "    (1): Sequential(\n",
       "      (0): Linear(in_features=1024, out_features=1280, bias=True)\n",
       "      (1): LayerNorm((1280,), eps=1e-05, elementwise_affine=True)\n",
       "      (2): GELU(approximate='none')\n",
       "      (3): Dropout(p=0.05, inplace=False)\n",
       "    )\n",
       "    (2): Sequential(\n",
       "      (0): Linear(in_features=1280, out_features=1280, bias=True)\n",
       "      (1): LayerNorm((1280,), eps=1e-05, elementwise_affine=True)\n",
       "      (2): GELU(approximate='none')\n",
       "      (3): Dropout(p=0.05, inplace=False)\n",
       "    )\n",
       "    (3): Linear(in_features=1280, out_features=1280, bias=True)\n",
       "  )\n",
       "  (binary_decoder): Sequential(\n",
       "    (0): Sequential(\n",
       "      (0): Linear(in_features=2560, out_features=2048, bias=True)\n",
       "      (1): LayerNorm((2048,), eps=1e-05, elementwise_affine=True)\n",
       "      (2): GELU(approximate='none')\n",
       "      (3): Dropout(p=0.05, inplace=False)\n",
       "    )\n",
       "    (1): Sequential(\n",
       "      (0): Linear(in_features=2048, out_features=512, bias=True)\n",
       "      (1): LayerNorm((512,), eps=1e-05, elementwise_affine=True)\n",
       "      (2): GELU(approximate='none')\n",
       "      (3): Dropout(p=0.05, inplace=False)\n",
       "    )\n",
       "    (2): Sequential(\n",
       "      (0): Linear(in_features=512, out_features=128, bias=True)\n",
       "      (1): LayerNorm((128,), eps=1e-05, elementwise_affine=True)\n",
       "      (2): GELU(approximate='none')\n",
       "      (3): Dropout(p=0.05, inplace=False)\n",
       "    )\n",
       "    (3): Linear(in_features=128, out_features=1, bias=True)\n",
       "  )\n",
       "  (gene_embedding_layer): Sequential(\n",
       "    (0): Linear(in_features=5120, out_features=1280, bias=True)\n",
       "    (1): GELU(approximate='none')\n",
       "    (2): LayerNorm((1280,), eps=1e-05, elementwise_affine=True)\n",
       "  )\n",
       "  (pe_embedding): Embedding(145469, 5120)\n",
       ")"
      ]
     },
     "execution_count": 9,
     "metadata": {},
     "output_type": "execute_result"
    }
   ],
   "source": [
    "model.eval()\n",
    "model.to(\"cuda\")"
   ]
  },
  {
   "cell_type": "code",
   "execution_count": 10,
   "metadata": {},
   "outputs": [
    {
     "data": {
      "text/plain": [
       "torch.Size([10809, 5120])"
      ]
     },
     "execution_count": 10,
     "metadata": {},
     "output_type": "execute_result"
    }
   ],
   "source": [
    "gene_emb_indices =[gene_to_pe_idx[gene] for gene in fos_ko_adata.var['gene_symbols']]\n",
    "embeddings = model.pe_embedding(torch.tensor(gene_emb_indices).to('cuda'))\n",
    "\n",
    "embeddings.shape"
   ]
  },
  {
   "cell_type": "code",
   "execution_count": 11,
   "metadata": {},
   "outputs": [
    {
     "data": {
      "text/plain": [
       "(torch.Size([11990, 1280]), torch.Size([11990, 1280]))"
      ]
     },
     "execution_count": 11,
     "metadata": {},
     "output_type": "execute_result"
    }
   ],
   "source": [
    "fos_ko_embeddings = torch.tensor(fos_ko_adata.obsm['X_uce']).to('cuda')\n",
    "fos_control_embeddings = torch.tensor(fos_ko_adata.obsm['X_uce_copy']).to('cuda')\n",
    "\n",
    "stat2_ko_embeddings = torch.tensor(stat2_ko_adata.obsm['X_uce']).to('cuda')\n",
    "stat2_control_embeddings = torch.tensor(stat2_ko_adata.obsm['X_uce_copy']).to('cuda')\n",
    "\n",
    "fos_ko_embeddings.shape, fos_control_embeddings.shape"
   ]
  },
  {
   "cell_type": "code",
   "execution_count": 12,
   "metadata": {},
   "outputs": [
    {
     "name": "stderr",
     "output_type": "stream",
     "text": [
      "100%|██████████| 480/480 [07:19<00:00,  1.09it/s]\n"
     ]
    }
   ],
   "source": [
    "batch_size = 25\n",
    "\n",
    "results_fos_ko = []\n",
    "results_fos_control = []\n",
    "\n",
    "results_stat2_ko = []\n",
    "results_stat2_control = []\n",
    "\n",
    "for i in tqdm(range(0, fos_ko_embeddings.shape[0], batch_size)):\n",
    "\n",
    "    fos_ko_cell_batch = fos_ko_embeddings[i:i+batch_size]\n",
    "    fos_control_cell_batch = fos_control_embeddings[i:i+batch_size]\n",
    "\n",
    "    stat2_ko_batch = stat2_ko_embeddings[i:i+batch_size]\n",
    "    stat2_control_batch = stat2_control_embeddings[i:i+batch_size]\n",
    "\n",
    "    dec_fos_ko = model.predict(fos_ko_cell_batch, embeddings)\n",
    "    dec_fos_control = model.predict(fos_control_cell_batch, embeddings)\n",
    "\n",
    "    dec_stat2_ko = model.predict(stat2_ko_batch, embeddings)\n",
    "    dec_stat2_control = model.predict(stat2_control_batch, embeddings)\n",
    "\n",
    "    results_fos_ko.append(dec_fos_ko.detach().cpu())\n",
    "    results_fos_control.append(dec_fos_control.detach().cpu())\n",
    "\n",
    "    results_stat2_ko.append(dec_stat2_ko.detach().cpu())\n",
    "    results_stat2_control.append(dec_stat2_control.detach().cpu())"
   ]
  },
  {
   "cell_type": "code",
   "execution_count": 22,
   "metadata": {},
   "outputs": [],
   "source": [
    "results_fos_ko_torch = torch.tensor(np.concatenate(results_fos_ko )).squeeze()\n",
    "results_fos_control_torch = torch.tensor(np.concatenate(results_fos_control)).squeeze()\n",
    "\n",
    "results_stat2_ko_torch = torch.tensor(np.concatenate(results_stat2_ko)).squeeze()\n",
    "results_stat2_control_torch = torch.tensor(np.concatenate(results_stat2_control)).squeeze()\n",
    "\n",
    "probs_fos_ko = torch.nn.functional.softmax(results_fos_ko_torch, dim=1)\n",
    "probs_fos_control = torch.nn.functional.softmax(results_fos_control_torch, dim=1)\n",
    "\n",
    "probs_stat2_ko = torch.nn.functional.softmax(results_stat2_ko_torch, dim=1)\n",
    "probs_stat2_control = torch.nn.functional.softmax(results_stat2_control_torch, dim=1)"
   ]
  },
  {
   "cell_type": "code",
   "execution_count": 15,
   "metadata": {},
   "outputs": [
    {
     "data": {
      "text/plain": [
       "7506"
      ]
     },
     "execution_count": 15,
     "metadata": {},
     "output_type": "execute_result"
    }
   ],
   "source": [
    "fos_ko_adata.var['gene_symbols'].to_list().index('FOS')"
   ]
  },
  {
   "cell_type": "code",
   "execution_count": 16,
   "metadata": {},
   "outputs": [
    {
     "data": {
      "text/plain": [
       "(13087, 249)"
      ]
     },
     "execution_count": 16,
     "metadata": {},
     "output_type": "execute_result"
    }
   ],
   "source": [
    "FOS_targets = df.index[df['FOS'] == 1.0].tolist()\n",
    "STAT2_targets = df.index[df['STAT2'] == 1.0].tolist()\n",
    "\n",
    "len(FOS_targets), len(STAT2_targets)"
   ]
  },
  {
   "cell_type": "code",
   "execution_count": 17,
   "metadata": {},
   "outputs": [
    {
     "data": {
      "text/plain": [
       "(10809, 10809)"
      ]
     },
     "execution_count": 17,
     "metadata": {},
     "output_type": "execute_result"
    }
   ],
   "source": [
    "FOS_targets_mask = fos_ko_adata.var['gene_symbols'].isin(FOS_targets)\n",
    "STAT2_targets_mask = fos_ko_adata.var['gene_symbols'].isin(STAT2_targets)\n",
    "\n",
    "len(FOS_targets_mask), len(STAT2_targets_mask)"
   ]
  },
  {
   "cell_type": "code",
   "execution_count": 27,
   "metadata": {},
   "outputs": [
    {
     "data": {
      "text/plain": [
       "(torch.Size([11990, 7726]), torch.Size([11990, 7726]))"
      ]
     },
     "execution_count": 27,
     "metadata": {},
     "output_type": "execute_result"
    }
   ],
   "source": [
    "fos_ko_targets_results = results_fos_ko_torch[:, FOS_targets_mask]\n",
    "fos_control_targets_results = results_fos_control_torch[:, FOS_targets_mask]\n",
    "\n",
    "# non-targets\n",
    "fos_ko_non_targets_results = results_fos_ko_torch[:, ~FOS_targets_mask]\n",
    "fos_control_non_targets_results = results_fos_control_torch[:, ~FOS_targets_mask]\n",
    "\n",
    "stat2_ko_targets_results = results_stat2_ko_torch[:, STAT2_targets_mask]\n",
    "stat2_control_targets_results = results_stat2_control_torch[:, STAT2_targets_mask]\n",
    "\n",
    "# non-targets\n",
    "stat2_ko_non_targets_results = results_stat2_ko_torch[:, ~STAT2_targets_mask]\n",
    "stat2_control_non_targets_results = results_stat2_control_torch[:, ~STAT2_targets_mask]\n",
    "\n",
    "fos_ko_targets_results.shape, fos_control_targets_results.shape"
   ]
  },
  {
   "cell_type": "code",
   "execution_count": 33,
   "metadata": {},
   "outputs": [
    {
     "data": {
      "image/png": "[encoded data removed]",
      "text/plain": [
       "<Figure size 640x480 with 1 Axes>"
      ]
     },
     "metadata": {},
     "output_type": "display_data"
    }
   ],
   "source": [
    "fos_ko_delta = (fos_ko_targets_results.mean(dim=0) - fos_control_targets_results.mean(dim=0)).numpy()\n",
    "fos_ko_delta_non_targets = (fos_ko_non_targets_results.mean(dim=0) - fos_control_non_targets_results.mean(dim=0)).numpy()\n",
    "\n",
    "plt.hist(fos_ko_delta, density=True, color='blue', alpha=0.5, label='FOS Targets', bins=100)\n",
    "plt.hist(fos_ko_delta_non_targets, density=True, color='red', alpha=0.5, label='FOS Non-targets', bins=100)\n",
    "plt.xlabel(\"Change in logits from control\")\n",
    "plt.legend()\n",
    "plt.show()"
   ]
  },
  {
   "cell_type": "code",
   "execution_count": 35,
   "metadata": {},
   "outputs": [
    {
     "data": {
      "image/png": "[encoded data removed]",
      "text/plain": [
       "<Figure size 640x480 with 1 Axes>"
      ]
     },
     "metadata": {},
     "output_type": "display_data"
    }
   ],
   "source": [
    "# STAT2\n",
    "stat2_ko_delta = (stat2_ko_targets_results.mean(dim=0) - stat2_control_targets_results.mean(dim=0)).numpy()\n",
    "stat2_ko_delta_non_targets = (stat2_ko_non_targets_results.mean(dim=0) - stat2_control_non_targets_results.mean(dim=0)).numpy()\n",
    "\n",
    "plt.hist(stat2_ko_delta, density=True, color='blue', alpha=0.5, label='STAT2 Targets', bins=20)\n",
    "plt.hist(stat2_ko_delta_non_targets, density=True, color='red', alpha=0.5, label='STAT2 Non-targets', bins=100)\n",
    "plt.xlabel(\"Change in logits from control\")\n",
    "plt.legend()\n",
    "plt.show()"
   ]
  },
  {
   "cell_type": "code",
   "execution_count": 36,
   "metadata": {},
   "outputs": [
    {
     "data": {
      "image/png": "[encoded data removed]",
      "text/plain": [
       "<Figure size 640x480 with 1 Axes>"
      ]
     },
     "metadata": {},
     "output_type": "display_data"
    }
   ],
   "source": [
    "# fos with probabilities\n",
    "\n",
    "fos_ko_delta = (probs_fos_ko[:, FOS_targets_mask].mean(dim=0) - probs_fos_control[:, FOS_targets_mask].mean(dim=0)).numpy()\n",
    "fos_ko_delta_non_targets = (probs_fos_ko[:, ~FOS_targets_mask].mean(dim=0) - probs_fos_control[:, ~FOS_targets_mask].mean(dim=0)).numpy()\n",
    "\n",
    "plt.hist(fos_ko_delta, density=True, color='blue', alpha=0.5, label='FOS Targets', bins=100)\n",
    "plt.hist(fos_ko_delta_non_targets, density=True, color='red', alpha=0.5, label='FOS Non-targets', bins=100)\n",
    "plt.xlabel(\"Change in probabilities from control\")\n",
    "plt.legend()\n",
    "plt.show()\n"
   ]
  },
  {
   "cell_type": "code",
   "execution_count": 39,
   "metadata": {},
   "outputs": [],
   "source": [
    "dusp1_idx = fos_ko_adata.var['gene_symbols'].to_list().index('DUSP1')"
   ]
  },
  {
   "cell_type": "code",
   "execution_count": 43,
   "metadata": {},
   "outputs": [],
   "source": [
    "dusp1_pred = results_fos_ko_torch[:, dusp1_idx].numpy()\n",
    "dusp1_control_pred = results_fos_control_torch[:, dusp1_idx].numpy()\n",
    "\n",
    "dusp1_delta = dusp1_pred - dusp1_control_pred"
   ]
  },
  {
   "cell_type": "code",
   "execution_count": 45,
   "metadata": {},
   "outputs": [
    {
     "data": {
      "image/png": "[encoded data removed]",
      "text/plain": [
       "<Figure size 640x480 with 1 Axes>"
      ]
     },
     "metadata": {},
     "output_type": "display_data"
    }
   ],
   "source": [
    "plt.hist(dusp1_delta, bins=100)\n",
    "plt.title(\"DUSP1\")\n",
    "plt.show()"
   ]
  },
  {
   "cell_type": "markdown",
   "metadata": {},
   "source": [
    "Try now with the knockin experiments"
   ]
  },
  {
   "cell_type": "code",
   "execution_count": 11,
   "metadata": {},
   "outputs": [],
   "source": [
    "ann_object = \"10k_pbmcs_proc_uce_adata.h5ad\"\n",
    "\n",
    "fos_4_knockin = f\"./eval_outputs/knockins/FOS_4/{ann_object}\"\n",
    "fos_knockin = f\"./eval_outputs/knockins/FOS/{ann_object}\"\n",
    "\n",
    "stat_2_4_knockin = f\"./eval_outputs/knockins/STAT2_4/{ann_object}\"\n",
    "stats_2_knockin = f\"./eval_outputs/knockins/STAT2/{ann_object}\"\n",
    "\n",
    "fos_4_knockin = sc.read(fos_4_knockin)\n",
    "fos_knockin = sc.read(fos_knockin)\n",
    "\n",
    "stat_2_4_knockin = sc.read(stat_2_4_knockin)\n",
    "stats_2_knockin = sc.read(stats_2_knockin)\n",
    "\n",
    "control_adata = sc.read(f\"./eval_outputs/{ann_object}\")"
   ]
  },
  {
   "cell_type": "code",
   "execution_count": 12,
   "metadata": {},
   "outputs": [],
   "source": [
    "fos_4_embeddings = torch.tensor(fos_4_knockin.obsm['X_uce']).to('cuda')\n",
    "fos_knockin_embeddings = torch.tensor(fos_knockin.obsm['X_uce']).to('cuda')\n",
    "stat_2_4_knockin_embeddings = torch.tensor(stat_2_4_knockin.obsm['X_uce']).to('cuda')\n",
    "stats_2_knockin_embeddings = torch.tensor(stats_2_knockin.obsm['X_uce']).to('cuda')\n",
    "control_embeddings = torch.tensor(control_adata.obsm['X_uce']).to('cuda')"
   ]
  },
  {
   "cell_type": "code",
   "execution_count": 13,
   "metadata": {},
   "outputs": [
    {
     "name": "stderr",
     "output_type": "stream",
     "text": [
      "  0%|          | 0/480 [00:00<?, ?it/s]"
     ]
    },
    {
     "name": "stderr",
     "output_type": "stream",
     "text": [
      " 56%|█████▌    | 269/480 [05:07<04:03,  1.15s/it]"
     ]
    }
   ],
   "source": [
    "batch_size = 25\n",
    "\n",
    "control_results = []\n",
    "fos_4_results = []\n",
    "fos_knockin_results = []\n",
    "stat_2_4_results = []\n",
    "stats_2_knockin_results = []\n",
    "\n",
    "for i in tqdm(range(0, control_embeddings.shape[0], batch_size)):\n",
    "\n",
    "    cell_embedding_batch_control = control_embeddings[i:i+batch_size]\n",
    "    cell_embedding_batch_fos_4 = fos_4_embeddings[i:i+batch_size]\n",
    "    cell_embedding_batch_fos_knockin = fos_knockin_embeddings[i:i+batch_size]\n",
    "    cell_embedding_batch_stat_2_4 = stat_2_4_knockin_embeddings[i:i+batch_size]\n",
    "    cell_embedding_batch_stat_2 = stats_2_knockin_embeddings[i:i+batch_size]\n",
    "\n",
    "    dec_control = model.predict(cell_embedding_batch_control, embeddings)\n",
    "    dec_fos_4 = model.predict(cell_embedding_batch_fos_4, embeddings)\n",
    "    dec_fos_knockin = model.predict(cell_embedding_batch_fos_knockin, embeddings)\n",
    "    dec_stat_2_4 = model.predict(cell_embedding_batch_stat_2_4, embeddings)\n",
    "    dec_stat_2 = model.predict(cell_embedding_batch_stat_2, embeddings)\n",
    "\n",
    "    control_results.append(dec_control.detach().cpu())\n",
    "    fos_4_results.append(dec_fos_4.detach().cpu())\n",
    "    fos_knockin_results.append(dec_fos_knockin.detach().cpu())\n",
    "    stat_2_4_results.append(dec_stat_2_4.detach().cpu())\n",
    "    stats_2_knockin_results.append(dec_stat_2.detach().cpu())"
   ]
  },
  {
   "cell_type": "code",
   "execution_count": null,
   "metadata": {},
   "outputs": [],
   "source": []
  }
 ],
 "metadata": {
  "kernelspec": {
   "display_name": "diff_model",
   "language": "python",
   "name": "python3"
  },
  "language_info": {
   "codemirror_mode": {
    "name": "ipython",
    "version": 3
   },
   "file_extension": ".py",
   "mimetype": "text/x-python",
   "name": "python",
   "nbconvert_exporter": "python",
   "pygments_lexer": "ipython3",
   "version": "3.8.15"
  }
 },
 "nbformat": 4,
 "nbformat_minor": 2
}
