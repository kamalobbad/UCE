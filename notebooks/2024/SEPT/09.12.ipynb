{
 "cells": [
  {
   "cell_type": "code",
   "execution_count": 1,
   "metadata": {},
   "outputs": [],
   "source": [
    "import os\n",
    "os.chdir(\"/oak/stanford/groups/akundaje/kobbad/UCE\")\n",
    "from model import *\n",
    "import scanpy as sc\n",
    "from tqdm.auto import tqdm\n",
    "from torch import nn, Tensor\n",
    "from evaluate import get_ESM2_embeddings\n",
    "from utils import get_ESM2_embeddings_x\n",
    "import argparse\n",
    "from accelerate import Accelerator\n",
    "from evaluate import AnndataProcessor\n",
    "from eval_data import MultiDatasetSentences, MultiDatasetSentenceCollator\n",
    "import pickle\n",
    "from torch.utils.data import DataLoader\n",
    "import torch\n",
    "import numpy as np\n",
    "import pickle\n",
    "import pandas as pd\n",
    "import umap\n",
    "import numpy as np\n",
    "import matplotlib.pyplot as plt\n",
    "import seaborn as sns\n",
    "%matplotlib inline\n",
    "\n"
   ]
  },
  {
   "cell_type": "code",
   "execution_count": 3,
   "metadata": {},
   "outputs": [],
   "source": [
    "ann_object = \"/oak/stanford/groups/akundaje/kobbad/UCE/data/escs.h5ad\"\n",
    "\n",
    "adata = sc.read(ann_object)"
   ]
  },
  {
   "cell_type": "code",
   "execution_count": 6,
   "metadata": {},
   "outputs": [
    {
     "data": {
      "text/plain": [
       "cell_type\n",
       "epithelial cell                         82683\n",
       "fibroblast                              53467\n",
       "stromal cell                            37889\n",
       "enterocyte                              36440\n",
       "endothelial cell                        33863\n",
       "macrophage                              33241\n",
       "plasma cell                             27737\n",
       "T cell                                  27547\n",
       "mesenchymal stem cell                   22915\n",
       "smooth muscle cell                      22077\n",
       "monocyte                                19248\n",
       "neutrophil                              18545\n",
       "neuron                                  17410\n",
       "erythroid lineage cell                  13110\n",
       "erythroid progenitor cell               12049\n",
       "dendritic cell                           9930\n",
       "cord blood hematopoietic stem cell       9056\n",
       "kidney loop of Henle epithelial cell     8628\n",
       "oligodendrocyte                          7771\n",
       "type II pneumocyte                       7403\n",
       "thyroid follicular cell                  7302\n",
       "goblet cell                              7191\n",
       "B cell                                   7036\n",
       "basal cell                               6538\n",
       "stratified epithelial cell               6498\n",
       "professional antigen presenting cell     6211\n",
       "chondrocyte                              6179\n",
       "epithelial cell of exocrine pancreas     5568\n",
       "alternatively activated macrophage       5467\n",
       "peptic cell                              4973\n",
       "renal intercalated cell                  4588\n",
       "primordial germ cell                     3969\n",
       "cell of skeletal muscle                  3851\n",
       "endocrine cell                           3553\n",
       "astrocyte                                3349\n",
       "acinar cell                              3284\n",
       "ventricular cardiac muscle cell          3007\n",
       "mesothelial cell                         2663\n",
       "epithelial cell of proximal tubule       2023\n",
       "mast cell                                1658\n",
       "embryonic stem cell                      1644\n",
       "Sertoli cell                             1192\n",
       "myeloid cell                             1082\n",
       "inflammatory cell                          91\n",
       "Name: count, dtype: int64"
      ]
     },
     "execution_count": 6,
     "metadata": {},
     "output_type": "execute_result"
    }
   ],
   "source": [
    "adata.obs.cell_type.value_counts()\n"
   ]
  },
  {
   "cell_type": "code",
   "execution_count": 10,
   "metadata": {},
   "outputs": [
    {
     "data": {
      "text/plain": [
       "ENSG00000185189                NRBP2\n",
       "ENSG00000124191                 TOX2\n",
       "ENSG00000116791                 CRYZ\n",
       "ENSG00000271993    ENSG00000271993.1\n",
       "ENSG00000273110    ENSG00000273110.1\n",
       "                         ...        \n",
       "ENSG00000172819                 RARG\n",
       "ENSG00000174871                CNIH2\n",
       "ENSG00000236682            MAP3K2-DT\n",
       "ENSG00000088448              ANKRD10\n",
       "ENSG00000256862           PARP11-AS1\n",
       "Name: feature_name, Length: 26405, dtype: category\n",
       "Categories (26405, object): ['A1BG', 'A1BG-AS1', 'A1CF', 'A2M', ..., 'ZYG11B', 'ZYX', 'ZZEF1', 'ZZZ3']"
      ]
     },
     "execution_count": 10,
     "metadata": {},
     "output_type": "execute_result"
    }
   ],
   "source": [
    "adata.var.feature_name"
   ]
  },
  {
   "cell_type": "code",
   "execution_count": null,
   "metadata": {},
   "outputs": [],
   "source": []
  }
 ],
 "metadata": {
  "kernelspec": {
   "display_name": "diff_model",
   "language": "python",
   "name": "python3"
  },
  "language_info": {
   "codemirror_mode": {
    "name": "ipython",
    "version": 3
   },
   "file_extension": ".py",
   "mimetype": "text/x-python",
   "name": "python",
   "nbconvert_exporter": "python",
   "pygments_lexer": "ipython3",
   "version": "3.8.15"
  }
 },
 "nbformat": 4,
 "nbformat_minor": 2
}
