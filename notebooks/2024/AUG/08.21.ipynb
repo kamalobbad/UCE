{
 "cells": [
  {
   "cell_type": "code",
   "execution_count": 3,
   "metadata": {},
   "outputs": [],
   "source": [
    "import os\n",
    "os.chdir(\"/oak/stanford/groups/akundaje/kobbad/UCE\")\n",
    "from model import *\n",
    "import scanpy as sc\n",
    "from tqdm.auto import tqdm\n",
    "from torch import nn, Tensor\n",
    "from evaluate import get_ESM2_embeddings\n",
    "from utils import get_ESM2_embeddings_x\n",
    "import argparse\n",
    "from accelerate import Accelerator\n",
    "from evaluate import AnndataProcessor\n",
    "from eval_data import MultiDatasetSentences, MultiDatasetSentenceCollator\n",
    "import pickle\n",
    "from torch.utils.data import DataLoader\n",
    "import torch\n",
    "import numpy as np\n",
    "import pandas as pd\n",
    "import matplotlib.pyplot as plt"
   ]
  },
  {
   "cell_type": "markdown",
   "metadata": {},
   "source": [
    "TODO:\n",
    "\n",
    "1. We generate a mapping from every gene to every protein embedding id. (dataset.dataset_to_protein_embeddings[dataset.datasets[0]])\n",
    "\n",
    "2. We create a mapping from TFs to target genes. note: we need to know if they are repressors or activators. We probably make two mappings for each category.\n",
    "\n",
    "3. We modify the cell sampler to generate masks for any samples that have TFs that are interesting in them?\n",
    "\n",
    "4. We then generate a cell embedding and then generate logits for the target genes?"
   ]
  },
  {
   "cell_type": "code",
   "execution_count": 2,
   "metadata": {},
   "outputs": [],
   "source": [
    "tf_df = pd.read_csv(\"./data/gene_attribute_matrix.txt\", sep=\"\\t\", index_col=0)"
   ]
  },
  {
   "cell_type": "code",
   "execution_count": 3,
   "metadata": {},
   "outputs": [
    {
     "data": {
      "text/html": [
       "<div>\n",
       "<style scoped>\n",
       "    .dataframe tbody tr th:only-of-type {\n",
       "        vertical-align: middle;\n",
       "    }\n",
       "\n",
       "    .dataframe tbody tr th {\n",
       "        vertical-align: top;\n",
       "    }\n",
       "\n",
       "    .dataframe thead th {\n",
       "        text-align: right;\n",
       "    }\n",
       "</style>\n",
       "<table border=\"1\" class=\"dataframe\">\n",
       "  <thead>\n",
       "    <tr style=\"text-align: right;\">\n",
       "      <th></th>\n",
       "      <th>ARID3A</th>\n",
       "      <th>ATF1</th>\n",
       "      <th>ATF2</th>\n",
       "      <th>ATF3</th>\n",
       "      <th>BACH1</th>\n",
       "      <th>BATF</th>\n",
       "      <th>BCL11A</th>\n",
       "      <th>BCL3</th>\n",
       "      <th>BCLAF1</th>\n",
       "      <th>BDP1</th>\n",
       "      <th>...</th>\n",
       "      <th>ZC3H11A</th>\n",
       "      <th>ZEB1</th>\n",
       "      <th>ZKSCAN1</th>\n",
       "      <th>ZMIZ1</th>\n",
       "      <th>ZNF143</th>\n",
       "      <th>ZNF217</th>\n",
       "      <th>ZNF263</th>\n",
       "      <th>ZNF274</th>\n",
       "      <th>ZNF384</th>\n",
       "      <th>ZZZ3</th>\n",
       "    </tr>\n",
       "    <tr>\n",
       "      <th>#</th>\n",
       "      <th></th>\n",
       "      <th></th>\n",
       "      <th></th>\n",
       "      <th></th>\n",
       "      <th></th>\n",
       "      <th></th>\n",
       "      <th></th>\n",
       "      <th></th>\n",
       "      <th></th>\n",
       "      <th></th>\n",
       "      <th></th>\n",
       "      <th></th>\n",
       "      <th></th>\n",
       "      <th></th>\n",
       "      <th></th>\n",
       "      <th></th>\n",
       "      <th></th>\n",
       "      <th></th>\n",
       "      <th></th>\n",
       "      <th></th>\n",
       "      <th></th>\n",
       "    </tr>\n",
       "  </thead>\n",
       "  <tbody>\n",
       "    <tr>\n",
       "      <th>A1BG</th>\n",
       "      <td>1.000000</td>\n",
       "      <td>0.000000</td>\n",
       "      <td>0.000000</td>\n",
       "      <td>0.000000</td>\n",
       "      <td>0.000000</td>\n",
       "      <td>0.000000</td>\n",
       "      <td>0.000000</td>\n",
       "      <td>0.000000</td>\n",
       "      <td>0.000000</td>\n",
       "      <td>0.000000</td>\n",
       "      <td>...</td>\n",
       "      <td>0.000000</td>\n",
       "      <td>0.000000</td>\n",
       "      <td>0.000000</td>\n",
       "      <td>0.000000</td>\n",
       "      <td>0.000000</td>\n",
       "      <td>0.000000</td>\n",
       "      <td>0.000000</td>\n",
       "      <td>0.000000</td>\n",
       "      <td>0.000000</td>\n",
       "      <td>0.000000</td>\n",
       "    </tr>\n",
       "    <tr>\n",
       "      <th>A1BG-AS1</th>\n",
       "      <td>1.000000</td>\n",
       "      <td>0.000000</td>\n",
       "      <td>0.000000</td>\n",
       "      <td>0.000000</td>\n",
       "      <td>0.000000</td>\n",
       "      <td>0.000000</td>\n",
       "      <td>0.000000</td>\n",
       "      <td>0.000000</td>\n",
       "      <td>0.000000</td>\n",
       "      <td>0.000000</td>\n",
       "      <td>...</td>\n",
       "      <td>0.000000</td>\n",
       "      <td>0.000000</td>\n",
       "      <td>0.000000</td>\n",
       "      <td>0.000000</td>\n",
       "      <td>0.000000</td>\n",
       "      <td>0.000000</td>\n",
       "      <td>0.000000</td>\n",
       "      <td>0.000000</td>\n",
       "      <td>0.000000</td>\n",
       "      <td>0.000000</td>\n",
       "    </tr>\n",
       "    <tr>\n",
       "      <th>A1CF</th>\n",
       "      <td>1.000000</td>\n",
       "      <td>0.000000</td>\n",
       "      <td>0.000000</td>\n",
       "      <td>0.000000</td>\n",
       "      <td>0.000000</td>\n",
       "      <td>0.000000</td>\n",
       "      <td>0.000000</td>\n",
       "      <td>0.000000</td>\n",
       "      <td>0.000000</td>\n",
       "      <td>0.000000</td>\n",
       "      <td>...</td>\n",
       "      <td>0.000000</td>\n",
       "      <td>0.000000</td>\n",
       "      <td>0.000000</td>\n",
       "      <td>0.000000</td>\n",
       "      <td>0.000000</td>\n",
       "      <td>0.000000</td>\n",
       "      <td>0.000000</td>\n",
       "      <td>0.000000</td>\n",
       "      <td>0.000000</td>\n",
       "      <td>0.000000</td>\n",
       "    </tr>\n",
       "    <tr>\n",
       "      <th>A2M</th>\n",
       "      <td>1.000000</td>\n",
       "      <td>0.000000</td>\n",
       "      <td>0.000000</td>\n",
       "      <td>0.000000</td>\n",
       "      <td>0.000000</td>\n",
       "      <td>0.000000</td>\n",
       "      <td>0.000000</td>\n",
       "      <td>0.000000</td>\n",
       "      <td>0.000000</td>\n",
       "      <td>0.000000</td>\n",
       "      <td>...</td>\n",
       "      <td>0.000000</td>\n",
       "      <td>0.000000</td>\n",
       "      <td>0.000000</td>\n",
       "      <td>0.000000</td>\n",
       "      <td>0.000000</td>\n",
       "      <td>0.000000</td>\n",
       "      <td>0.000000</td>\n",
       "      <td>0.000000</td>\n",
       "      <td>0.000000</td>\n",
       "      <td>0.000000</td>\n",
       "    </tr>\n",
       "    <tr>\n",
       "      <th>A2ML1</th>\n",
       "      <td>0.000000</td>\n",
       "      <td>0.000000</td>\n",
       "      <td>1.000000</td>\n",
       "      <td>0.000000</td>\n",
       "      <td>0.000000</td>\n",
       "      <td>0.000000</td>\n",
       "      <td>0.000000</td>\n",
       "      <td>0.000000</td>\n",
       "      <td>0.000000</td>\n",
       "      <td>0.000000</td>\n",
       "      <td>...</td>\n",
       "      <td>1.000000</td>\n",
       "      <td>0.000000</td>\n",
       "      <td>0.000000</td>\n",
       "      <td>0.000000</td>\n",
       "      <td>1.000000</td>\n",
       "      <td>1.000000</td>\n",
       "      <td>0.000000</td>\n",
       "      <td>0.000000</td>\n",
       "      <td>1.000000</td>\n",
       "      <td>0.000000</td>\n",
       "    </tr>\n",
       "  </tbody>\n",
       "</table>\n",
       "<p>5 rows × 181 columns</p>\n",
       "</div>"
      ],
      "text/plain": [
       "            ARID3A      ATF1      ATF2      ATF3     BACH1      BATF  \\\n",
       "#                                                                      \n",
       "A1BG      1.000000  0.000000  0.000000  0.000000  0.000000  0.000000   \n",
       "A1BG-AS1  1.000000  0.000000  0.000000  0.000000  0.000000  0.000000   \n",
       "A1CF      1.000000  0.000000  0.000000  0.000000  0.000000  0.000000   \n",
       "A2M       1.000000  0.000000  0.000000  0.000000  0.000000  0.000000   \n",
       "A2ML1     0.000000  0.000000  1.000000  0.000000  0.000000  0.000000   \n",
       "\n",
       "            BCL11A      BCL3    BCLAF1      BDP1  ...   ZC3H11A      ZEB1  \\\n",
       "#                                                 ...                       \n",
       "A1BG      0.000000  0.000000  0.000000  0.000000  ...  0.000000  0.000000   \n",
       "A1BG-AS1  0.000000  0.000000  0.000000  0.000000  ...  0.000000  0.000000   \n",
       "A1CF      0.000000  0.000000  0.000000  0.000000  ...  0.000000  0.000000   \n",
       "A2M       0.000000  0.000000  0.000000  0.000000  ...  0.000000  0.000000   \n",
       "A2ML1     0.000000  0.000000  0.000000  0.000000  ...  1.000000  0.000000   \n",
       "\n",
       "           ZKSCAN1     ZMIZ1    ZNF143    ZNF217    ZNF263    ZNF274  \\\n",
       "#                                                                      \n",
       "A1BG      0.000000  0.000000  0.000000  0.000000  0.000000  0.000000   \n",
       "A1BG-AS1  0.000000  0.000000  0.000000  0.000000  0.000000  0.000000   \n",
       "A1CF      0.000000  0.000000  0.000000  0.000000  0.000000  0.000000   \n",
       "A2M       0.000000  0.000000  0.000000  0.000000  0.000000  0.000000   \n",
       "A2ML1     0.000000  0.000000  1.000000  1.000000  0.000000  0.000000   \n",
       "\n",
       "            ZNF384      ZZZ3  \n",
       "#                             \n",
       "A1BG      0.000000  0.000000  \n",
       "A1BG-AS1  0.000000  0.000000  \n",
       "A1CF      0.000000  0.000000  \n",
       "A2M       0.000000  0.000000  \n",
       "A2ML1     1.000000  0.000000  \n",
       "\n",
       "[5 rows x 181 columns]"
      ]
     },
     "execution_count": 3,
     "metadata": {},
     "output_type": "execute_result"
    }
   ],
   "source": [
    "# filter out columns 1 and 2\n",
    "tf_df = tf_df.iloc[2:, 2:]\n",
    "\n",
    "tf_df.head()"
   ]
  },
  {
   "cell_type": "code",
   "execution_count": 4,
   "metadata": {},
   "outputs": [],
   "source": [
    "df = tf_df.round(decimals=0)"
   ]
  },
  {
   "cell_type": "code",
   "execution_count": 5,
   "metadata": {},
   "outputs": [],
   "source": [
    "df = df.apply(pd.to_numeric, errors='coerce')"
   ]
  },
  {
   "cell_type": "code",
   "execution_count": 6,
   "metadata": {},
   "outputs": [
    {
     "data": {
      "text/html": [
       "<div>\n",
       "<style scoped>\n",
       "    .dataframe tbody tr th:only-of-type {\n",
       "        vertical-align: middle;\n",
       "    }\n",
       "\n",
       "    .dataframe tbody tr th {\n",
       "        vertical-align: top;\n",
       "    }\n",
       "\n",
       "    .dataframe thead th {\n",
       "        text-align: right;\n",
       "    }\n",
       "</style>\n",
       "<table border=\"1\" class=\"dataframe\">\n",
       "  <thead>\n",
       "    <tr style=\"text-align: right;\">\n",
       "      <th></th>\n",
       "      <th>ARID3A</th>\n",
       "      <th>ATF1</th>\n",
       "      <th>ATF2</th>\n",
       "      <th>ATF3</th>\n",
       "      <th>BACH1</th>\n",
       "      <th>BATF</th>\n",
       "      <th>BCL11A</th>\n",
       "      <th>BCL3</th>\n",
       "      <th>BCLAF1</th>\n",
       "      <th>BDP1</th>\n",
       "      <th>...</th>\n",
       "      <th>ZC3H11A</th>\n",
       "      <th>ZEB1</th>\n",
       "      <th>ZKSCAN1</th>\n",
       "      <th>ZMIZ1</th>\n",
       "      <th>ZNF143</th>\n",
       "      <th>ZNF217</th>\n",
       "      <th>ZNF263</th>\n",
       "      <th>ZNF274</th>\n",
       "      <th>ZNF384</th>\n",
       "      <th>ZZZ3</th>\n",
       "    </tr>\n",
       "    <tr>\n",
       "      <th>#</th>\n",
       "      <th></th>\n",
       "      <th></th>\n",
       "      <th></th>\n",
       "      <th></th>\n",
       "      <th></th>\n",
       "      <th></th>\n",
       "      <th></th>\n",
       "      <th></th>\n",
       "      <th></th>\n",
       "      <th></th>\n",
       "      <th></th>\n",
       "      <th></th>\n",
       "      <th></th>\n",
       "      <th></th>\n",
       "      <th></th>\n",
       "      <th></th>\n",
       "      <th></th>\n",
       "      <th></th>\n",
       "      <th></th>\n",
       "      <th></th>\n",
       "      <th></th>\n",
       "    </tr>\n",
       "  </thead>\n",
       "  <tbody>\n",
       "    <tr>\n",
       "      <th>A1BG</th>\n",
       "      <td>1.0</td>\n",
       "      <td>0.0</td>\n",
       "      <td>0.0</td>\n",
       "      <td>0.0</td>\n",
       "      <td>0.0</td>\n",
       "      <td>0.0</td>\n",
       "      <td>0.0</td>\n",
       "      <td>0.0</td>\n",
       "      <td>0.0</td>\n",
       "      <td>0.0</td>\n",
       "      <td>...</td>\n",
       "      <td>0.0</td>\n",
       "      <td>0.0</td>\n",
       "      <td>0.0</td>\n",
       "      <td>0.0</td>\n",
       "      <td>0.0</td>\n",
       "      <td>0.0</td>\n",
       "      <td>0.0</td>\n",
       "      <td>0.0</td>\n",
       "      <td>0.0</td>\n",
       "      <td>0.0</td>\n",
       "    </tr>\n",
       "    <tr>\n",
       "      <th>A1BG-AS1</th>\n",
       "      <td>1.0</td>\n",
       "      <td>0.0</td>\n",
       "      <td>0.0</td>\n",
       "      <td>0.0</td>\n",
       "      <td>0.0</td>\n",
       "      <td>0.0</td>\n",
       "      <td>0.0</td>\n",
       "      <td>0.0</td>\n",
       "      <td>0.0</td>\n",
       "      <td>0.0</td>\n",
       "      <td>...</td>\n",
       "      <td>0.0</td>\n",
       "      <td>0.0</td>\n",
       "      <td>0.0</td>\n",
       "      <td>0.0</td>\n",
       "      <td>0.0</td>\n",
       "      <td>0.0</td>\n",
       "      <td>0.0</td>\n",
       "      <td>0.0</td>\n",
       "      <td>0.0</td>\n",
       "      <td>0.0</td>\n",
       "    </tr>\n",
       "    <tr>\n",
       "      <th>A1CF</th>\n",
       "      <td>1.0</td>\n",
       "      <td>0.0</td>\n",
       "      <td>0.0</td>\n",
       "      <td>0.0</td>\n",
       "      <td>0.0</td>\n",
       "      <td>0.0</td>\n",
       "      <td>0.0</td>\n",
       "      <td>0.0</td>\n",
       "      <td>0.0</td>\n",
       "      <td>0.0</td>\n",
       "      <td>...</td>\n",
       "      <td>0.0</td>\n",
       "      <td>0.0</td>\n",
       "      <td>0.0</td>\n",
       "      <td>0.0</td>\n",
       "      <td>0.0</td>\n",
       "      <td>0.0</td>\n",
       "      <td>0.0</td>\n",
       "      <td>0.0</td>\n",
       "      <td>0.0</td>\n",
       "      <td>0.0</td>\n",
       "    </tr>\n",
       "    <tr>\n",
       "      <th>A2M</th>\n",
       "      <td>1.0</td>\n",
       "      <td>0.0</td>\n",
       "      <td>0.0</td>\n",
       "      <td>0.0</td>\n",
       "      <td>0.0</td>\n",
       "      <td>0.0</td>\n",
       "      <td>0.0</td>\n",
       "      <td>0.0</td>\n",
       "      <td>0.0</td>\n",
       "      <td>0.0</td>\n",
       "      <td>...</td>\n",
       "      <td>0.0</td>\n",
       "      <td>0.0</td>\n",
       "      <td>0.0</td>\n",
       "      <td>0.0</td>\n",
       "      <td>0.0</td>\n",
       "      <td>0.0</td>\n",
       "      <td>0.0</td>\n",
       "      <td>0.0</td>\n",
       "      <td>0.0</td>\n",
       "      <td>0.0</td>\n",
       "    </tr>\n",
       "    <tr>\n",
       "      <th>A2ML1</th>\n",
       "      <td>0.0</td>\n",
       "      <td>0.0</td>\n",
       "      <td>1.0</td>\n",
       "      <td>0.0</td>\n",
       "      <td>0.0</td>\n",
       "      <td>0.0</td>\n",
       "      <td>0.0</td>\n",
       "      <td>0.0</td>\n",
       "      <td>0.0</td>\n",
       "      <td>0.0</td>\n",
       "      <td>...</td>\n",
       "      <td>1.0</td>\n",
       "      <td>0.0</td>\n",
       "      <td>0.0</td>\n",
       "      <td>0.0</td>\n",
       "      <td>1.0</td>\n",
       "      <td>1.0</td>\n",
       "      <td>0.0</td>\n",
       "      <td>0.0</td>\n",
       "      <td>1.0</td>\n",
       "      <td>0.0</td>\n",
       "    </tr>\n",
       "  </tbody>\n",
       "</table>\n",
       "<p>5 rows × 181 columns</p>\n",
       "</div>"
      ],
      "text/plain": [
       "          ARID3A  ATF1  ATF2  ATF3  BACH1  BATF  BCL11A  BCL3  BCLAF1  BDP1  \\\n",
       "#                                                                             \n",
       "A1BG         1.0   0.0   0.0   0.0    0.0   0.0     0.0   0.0     0.0   0.0   \n",
       "A1BG-AS1     1.0   0.0   0.0   0.0    0.0   0.0     0.0   0.0     0.0   0.0   \n",
       "A1CF         1.0   0.0   0.0   0.0    0.0   0.0     0.0   0.0     0.0   0.0   \n",
       "A2M          1.0   0.0   0.0   0.0    0.0   0.0     0.0   0.0     0.0   0.0   \n",
       "A2ML1        0.0   0.0   1.0   0.0    0.0   0.0     0.0   0.0     0.0   0.0   \n",
       "\n",
       "          ...  ZC3H11A  ZEB1  ZKSCAN1  ZMIZ1  ZNF143  ZNF217  ZNF263  ZNF274  \\\n",
       "#         ...                                                                  \n",
       "A1BG      ...      0.0   0.0      0.0    0.0     0.0     0.0     0.0     0.0   \n",
       "A1BG-AS1  ...      0.0   0.0      0.0    0.0     0.0     0.0     0.0     0.0   \n",
       "A1CF      ...      0.0   0.0      0.0    0.0     0.0     0.0     0.0     0.0   \n",
       "A2M       ...      0.0   0.0      0.0    0.0     0.0     0.0     0.0     0.0   \n",
       "A2ML1     ...      1.0   0.0      0.0    0.0     1.0     1.0     0.0     0.0   \n",
       "\n",
       "          ZNF384  ZZZ3  \n",
       "#                       \n",
       "A1BG         0.0   0.0  \n",
       "A1BG-AS1     0.0   0.0  \n",
       "A1CF         0.0   0.0  \n",
       "A2M          0.0   0.0  \n",
       "A2ML1        1.0   0.0  \n",
       "\n",
       "[5 rows x 181 columns]"
      ]
     },
     "execution_count": 6,
     "metadata": {},
     "output_type": "execute_result"
    }
   ],
   "source": [
    "df.head()"
   ]
  },
  {
   "cell_type": "code",
   "execution_count": 7,
   "metadata": {},
   "outputs": [
    {
     "name": "stdout",
     "output_type": "stream",
     "text": [
      "0.0         2029601\n",
      "1.0         1359624\n",
      "0.000000     445255\n",
      "1.000000     295759\n",
      "Name: count, dtype: int64\n"
     ]
    }
   ],
   "source": [
    "value_counts = pd.Series(tf_df.values.flatten()).value_counts()\n",
    "\n",
    "print(value_counts)\n"
   ]
  },
  {
   "cell_type": "code",
   "execution_count": 8,
   "metadata": {},
   "outputs": [],
   "source": [
    "adata = sc.read(\"10k_pbmcs_proc_uce_adata.h5ad\")"
   ]
  },
  {
   "cell_type": "code",
   "execution_count": 9,
   "metadata": {},
   "outputs": [
    {
     "data": {
      "text/html": [
       "<div>\n",
       "<style scoped>\n",
       "    .dataframe tbody tr th:only-of-type {\n",
       "        vertical-align: middle;\n",
       "    }\n",
       "\n",
       "    .dataframe tbody tr th {\n",
       "        vertical-align: top;\n",
       "    }\n",
       "\n",
       "    .dataframe thead th {\n",
       "        text-align: right;\n",
       "    }\n",
       "</style>\n",
       "<table border=\"1\" class=\"dataframe\">\n",
       "  <thead>\n",
       "    <tr style=\"text-align: right;\">\n",
       "      <th></th>\n",
       "      <th>gene_symbols</th>\n",
       "      <th>n_counts-0</th>\n",
       "      <th>n_counts-1</th>\n",
       "      <th>n_counts</th>\n",
       "      <th>highly_variable</th>\n",
       "      <th>highly_variable_rank</th>\n",
       "      <th>means</th>\n",
       "      <th>variances</th>\n",
       "      <th>variances_norm</th>\n",
       "      <th>n_cells</th>\n",
       "    </tr>\n",
       "  </thead>\n",
       "  <tbody>\n",
       "    <tr>\n",
       "      <th>BCL3</th>\n",
       "      <td>BCL3</td>\n",
       "      <td>282.0</td>\n",
       "      <td>121.0</td>\n",
       "      <td>389.0</td>\n",
       "      <td>True</td>\n",
       "      <td>4521.0</td>\n",
       "      <td>0.032444</td>\n",
       "      <td>0.033896</td>\n",
       "      <td>0.972795</td>\n",
       "      <td>374</td>\n",
       "    </tr>\n",
       "  </tbody>\n",
       "</table>\n",
       "</div>"
      ],
      "text/plain": [
       "     gene_symbols  n_counts-0  n_counts-1  n_counts  highly_variable  \\\n",
       "BCL3         BCL3       282.0       121.0     389.0             True   \n",
       "\n",
       "      highly_variable_rank     means  variances  variances_norm  n_cells  \n",
       "BCL3                4521.0  0.032444   0.033896        0.972795      374  "
      ]
     },
     "execution_count": 9,
     "metadata": {},
     "output_type": "execute_result"
    }
   ],
   "source": [
    "adata.var[adata.var[\"gene_symbols\"]==\"BCL3\"]"
   ]
  },
  {
   "cell_type": "code",
   "execution_count": 10,
   "metadata": {},
   "outputs": [
    {
     "data": {
      "text/plain": [
       "Index(['A1BG', 'A1BG-AS1', 'A1CF', 'A2M', 'A2ML1', 'A2MP1', 'A3GALT2',\n",
       "       'A4GALT', 'A4GNT', 'AA06',\n",
       "       ...\n",
       "       'ZWILCH', 'ZWINT', 'ZXDA', 'ZXDB', 'ZXDC', 'ZYG11A', 'ZYG11B', 'ZYX',\n",
       "       'ZZEF1', 'ZZZ3'],\n",
       "      dtype='object', name='#', length=22819)"
      ]
     },
     "execution_count": 10,
     "metadata": {},
     "output_type": "execute_result"
    }
   ],
   "source": [
    "df.index"
   ]
  },
  {
   "cell_type": "code",
   "execution_count": 11,
   "metadata": {},
   "outputs": [],
   "source": [
    "genes_in_dataset = adata.var[\"gene_symbols\"].to_list()\n",
    "\n",
    "tfs_in_annot = df.columns.to_list()\n",
    "\n",
    "genes_in_annot = df.index.to_list()\n",
    "\n"
   ]
  },
  {
   "cell_type": "markdown",
   "metadata": {},
   "source": [
    "Next, I want to find all the TFs that are in anndata object and find which of their gene targets are also in there"
   ]
  },
  {
   "cell_type": "code",
   "execution_count": 12,
   "metadata": {},
   "outputs": [
    {
     "data": {
      "text/plain": [
       "(147, 181)"
      ]
     },
     "execution_count": 12,
     "metadata": {},
     "output_type": "execute_result"
    }
   ],
   "source": [
    "tfs_in_dataset = [tf for tf in tfs_in_annot if tf in genes_in_dataset]\n",
    "\n",
    "len(tfs_in_dataset), len(tfs_in_annot)"
   ]
  },
  {
   "cell_type": "code",
   "execution_count": 13,
   "metadata": {},
   "outputs": [
    {
     "data": {
      "text/plain": [
       "(10484, 10809)"
      ]
     },
     "execution_count": 13,
     "metadata": {},
     "output_type": "execute_result"
    }
   ],
   "source": [
    "overlapping_genes = [gene for gene in genes_in_annot if gene in genes_in_dataset]\n",
    "\n",
    "len(overlapping_genes), len(genes_in_dataset)"
   ]
  },
  {
   "cell_type": "code",
   "execution_count": 14,
   "metadata": {},
   "outputs": [
    {
     "data": {
      "text/plain": [
       "((10484, 147), (22819, 181))"
      ]
     },
     "execution_count": 14,
     "metadata": {},
     "output_type": "execute_result"
    }
   ],
   "source": [
    "# subset the dataframe to only include genes in the dataset and tfs\n",
    "df_subset = df.loc[overlapping_genes, tfs_in_dataset]\n",
    "\n",
    "df_subset.shape, df.shape"
   ]
  },
  {
   "cell_type": "code",
   "execution_count": 15,
   "metadata": {},
   "outputs": [
    {
     "data": {
      "text/plain": [
       "POLR2A     10381.0\n",
       "CTCF       10374.0\n",
       "EP300      10086.0\n",
       "EZH2        9996.0\n",
       "MAX         9958.0\n",
       "            ...   \n",
       "SMARCA4       30.0\n",
       "BRF1          26.0\n",
       "POLR3G        15.0\n",
       "BRF2           7.0\n",
       "XRCC4          3.0\n",
       "Length: 147, dtype: float64"
      ]
     },
     "execution_count": 15,
     "metadata": {},
     "output_type": "execute_result"
    }
   ],
   "source": [
    "df_subset.sum(axis=0).sort_values(ascending=False)"
   ]
  },
  {
   "cell_type": "code",
   "execution_count": 17,
   "metadata": {},
   "outputs": [
    {
     "data": {
      "text/plain": [
       "(11990, 10809)"
      ]
     },
     "execution_count": 17,
     "metadata": {},
     "output_type": "execute_result"
    }
   ],
   "source": [
    "adata.X.shape"
   ]
  },
  {
   "cell_type": "markdown",
   "metadata": {},
   "source": [
    "I probably should curate some TFs for this dataset since it seems like some of the TFs above aren't great. \n",
    "\n",
    "Also, I should probably plot the expression of some genes to make sure I am using TFs and target genes that are expressed. "
   ]
  },
  {
   "cell_type": "code",
   "execution_count": 18,
   "metadata": {},
   "outputs": [
    {
     "data": {
      "text/plain": [
       "(11990, 147)"
      ]
     },
     "execution_count": 18,
     "metadata": {},
     "output_type": "execute_result"
    }
   ],
   "source": [
    "tfs_expression = adata.X[:, adata.var[\"gene_symbols\"].isin(tfs_in_dataset)]\n",
    "\n",
    "tfs_expression.shape"
   ]
  },
  {
   "cell_type": "code",
   "execution_count": 30,
   "metadata": {},
   "outputs": [],
   "source": [
    "# Boolean mask for TFs in the dataset\n",
    "tfs_mask = adata.var[\"gene_symbols\"].isin(tfs_in_dataset)\n",
    "\n",
    "# Extract the corresponding gene IDs\n",
    "tfs_gene_ids = adata.var.index[tfs_mask]"
   ]
  },
  {
   "cell_type": "code",
   "execution_count": 23,
   "metadata": {},
   "outputs": [
    {
     "data": {
      "text/plain": [
       "(11990, 147)"
      ]
     },
     "execution_count": 23,
     "metadata": {},
     "output_type": "execute_result"
    }
   ],
   "source": [
    "tfs_expression = tfs_expression.toarray()\n",
    "\n",
    "tfs_expression.shape"
   ]
  },
  {
   "cell_type": "code",
   "execution_count": 29,
   "metadata": {},
   "outputs": [
    {
     "data": {
      "image/png": "[encoded data removed]",
      "text/plain": [
       "<Figure size 640x480 with 1 Axes>"
      ]
     },
     "metadata": {},
     "output_type": "display_data"
    }
   ],
   "source": [
    "plt.hist(np.log1p(tfs_expression.sum(axis=0)), bins=50);"
   ]
  },
  {
   "cell_type": "code",
   "execution_count": 37,
   "metadata": {},
   "outputs": [],
   "source": [
    "sorted_indices = np.argsort(tfs_expression.sum(axis=0))[::-1]"
   ]
  },
  {
   "cell_type": "code",
   "execution_count": 44,
   "metadata": {},
   "outputs": [
    {
     "data": {
      "text/plain": [
       "array(['FOS', 'JUN', 'JUND', 'SPI1', 'CEBPB', 'IRF1', 'MEF2C', 'ETS1',\n",
       "       'POU2F2', 'CEBPD', 'MAX', 'RAD21', 'STAT1', 'NR3C1', 'CHD1',\n",
       "       'FLI1', 'SMARCB1', 'USF2', 'SMC3', 'MYC', 'REST', 'MBD4', 'ZBTB7A',\n",
       "       'KDM5A', 'HDAC2', 'MAZ', 'GTF2F1', 'SMARCC1', 'BDP1', 'UBTF',\n",
       "       'CEBPZ', 'CHD4', 'RUNX3', 'GATA3', 'ZC3H11A', 'CUX1', 'SUZ12',\n",
       "       'BCL11A', 'MEF2A', 'CTCF', 'TBL1XR1', 'CREB1', 'ZNF274', 'E2F4',\n",
       "       'POLR2A', 'SMARCC2', 'STAT2', 'STAT5A', 'GTF2B', 'ELK4'],\n",
       "      dtype=object)"
      ]
     },
     "execution_count": 44,
     "metadata": {},
     "output_type": "execute_result"
    }
   ],
   "source": [
    "np.array(tfs_gene_ids)[sorted_indices[:50]]"
   ]
  },
  {
   "cell_type": "code",
   "execution_count": 33,
   "metadata": {},
   "outputs": [
    {
     "data": {
      "text/plain": [
       "Index(['KDM1A', 'RUNX3', 'KDM4A', 'TAL1', 'JUN', 'ZZZ3', 'GTF2B', 'SETDB1',\n",
       "       'RFX5', 'USF1',\n",
       "       ...\n",
       "       'BCL3', 'SIX5', 'ZNF274', 'TRIM28', 'SMARCB1', 'MAFF', 'EP300',\n",
       "       'SREBF2', 'GABPA', 'BACH1'],\n",
       "      dtype='object', length=147)"
      ]
     },
     "execution_count": 33,
     "metadata": {},
     "output_type": "execute_result"
    }
   ],
   "source": []
  },
  {
   "cell_type": "code",
   "execution_count": 59,
   "metadata": {},
   "outputs": [
    {
     "data": {
      "text/plain": [
       "105"
      ]
     },
     "execution_count": 59,
     "metadata": {},
     "output_type": "execute_result"
    }
   ],
   "source": [
    "df.loc[df[\"STAT2\"] == 1, \"STAT2\"].index.to_list().index(\"ISG20\")"
   ]
  },
  {
   "cell_type": "markdown",
   "metadata": {},
   "source": [
    "ok, so I have a TF \"STAT2\" and a bunch of targets like \"ISG15\" that are known. We knock out both of these by setting their counts to 0. We have a knockout anndata and a regular anndata. We generate several cell embeddings in different scenarios:\n",
    "\n",
    "1. We knockout both and predict ISG15 expression. \n",
    "2. We keep both in and predict ISG15 expression. \n",
    "3. We keep STAT5 and knockout ISG15 and make sure ISG15 is still predicted to be expressed. "
   ]
  },
  {
   "cell_type": "code",
   "execution_count": 12,
   "metadata": {},
   "outputs": [
    {
     "data": {
      "text/plain": [
       "_StoreAction(option_strings=['--genes_to_pe_idx'], dest='genes_to_pe_idx', nargs=None, const=None, default='./model_files/gene_to_pe_index.pkl', type=<class 'str'>, choices=None, help='Path to gene to protein embedding index mapping', metavar=None)"
      ]
     },
     "execution_count": 12,
     "metadata": {},
     "output_type": "execute_result"
    }
   ],
   "source": [
    "parser = argparse.ArgumentParser(\n",
    "    description='Embed a single anndata using UCE.')\n",
    "\n",
    "# Anndata Processing Arguments\n",
    "parser.add_argument('--adata_path', type=str,\n",
    "                    default=None,\n",
    "                    help='Full path to the anndata you want to embed.')\n",
    "parser.add_argument('--dir', type=str,\n",
    "                    default=\"./\",\n",
    "                    help='Working folder where all files will be saved.')\n",
    "parser.add_argument('--species', type=str, default=\"human\",\n",
    "                    help='Species of the anndata.')\n",
    "parser.add_argument('--filter', type=bool, default=True,\n",
    "                    help='Additional gene/cell filtering on the anndata.')\n",
    "parser.add_argument('--skip', type=bool, default=True,\n",
    "                    help='Skip datasets that appear to have already been created.')\n",
    "\n",
    "# Model Arguments\n",
    "parser.add_argument('--model_loc', type=str,\n",
    "                    default=None,\n",
    "                    help='Location of the model.')\n",
    "parser.add_argument('--batch_size', type=int, default=25,\n",
    "                    help='Batch size.')\n",
    "parser.add_argument('--pad_length', type=int, default=1536,\n",
    "                    help='Batch size.')\n",
    "parser.add_argument(\"--pad_token_idx\", type=int, default=0,\n",
    "                    help=\"PAD token index\")\n",
    "parser.add_argument(\"--chrom_token_left_idx\", type=int, default=1,\n",
    "                    help=\"Chrom token left index\")\n",
    "parser.add_argument(\"--chrom_token_right_idx\", type=int, default=2,\n",
    "                    help=\"Chrom token right index\")\n",
    "parser.add_argument(\"--cls_token_idx\", type=int, default=3,\n",
    "                    help=\"CLS token index\")\n",
    "parser.add_argument(\"--CHROM_TOKEN_OFFSET\", type=int, default=143574,\n",
    "                    help=\"Offset index, tokens after this mark are chromosome identifiers\")\n",
    "parser.add_argument('--sample_size', type=int, default=1024,\n",
    "                    help='Number of genes sampled for cell sentence')\n",
    "parser.add_argument('--CXG', type=bool, default=True,\n",
    "                    help='Use CXG model.')\n",
    "parser.add_argument('--nlayers', type=int, default=4,\n",
    "                    help='Number of transformer layers.')\n",
    "parser.add_argument('--output_dim', type=int, default=1280,\n",
    "                    help='Output dimension.')\n",
    "parser.add_argument('--d_hid', type=int, default=5120,\n",
    "                    help='Hidden dimension.')\n",
    "parser.add_argument('--token_dim', type=int, default=5120,\n",
    "                    help='Token dimension.')\n",
    "parser.add_argument('--multi_gpu', type=bool, default=False,\n",
    "                    help='Use multiple GPUs')\n",
    "\n",
    "# Misc Arguments\n",
    "parser.add_argument(\"--spec_chrom_csv_path\",\n",
    "                    default=\"./model_files/species_chrom.csv\", type=str,\n",
    "                    help=\"CSV Path for species genes to chromosomes and start locations.\")\n",
    "parser.add_argument(\"--token_file\",\n",
    "                    default=\"./model_files/all_tokens.torch\", type=str,\n",
    "                    help=\"Path for token embeddings.\")\n",
    "parser.add_argument(\"--protein_embeddings_dir\",\n",
    "                    default=\"./model_files/protein_embeddings/\", type=str,\n",
    "                    help=\"Directory where protein embedding .pt files are stored.\")\n",
    "parser.add_argument(\"--offset_pkl_path\",\n",
    "                    default=\"./model_files/species_offsets.pkl\", type=str,\n",
    "                        help=\"PKL file which contains offsets for each species.\")\n",
    "\n",
    "# masking arguments\n",
    "parser.add_argument(\"--genes_to_mask\", \n",
    "                    nargs='+',\n",
    "                    default= None,\n",
    "                    type=str,\n",
    "                    help=\"List of genes to mask\")\n",
    "\n",
    "parser.add_argument(\"--genes_to_pe_idx\",\n",
    "                    default=\"./model_files/gene_to_pe_index.pkl\",type=str,\n",
    "                    help=\"Path to gene to protein embedding index mapping\")"
   ]
  },
  {
   "cell_type": "code",
   "execution_count": 15,
   "metadata": {},
   "outputs": [],
   "source": [
    "args = parser.parse_args()"
   ]
  },
  {
   "cell_type": "code",
   "execution_count": 19,
   "metadata": {},
   "outputs": [
    {
     "data": {
      "text/plain": [
       "['STAT2']"
      ]
     },
     "execution_count": 19,
     "metadata": {},
     "output_type": "execute_result"
    }
   ],
   "source": [
    "args.genes_to_mask = [\"STAT2\"]\n",
    "\n",
    "args.genes_to_mask"
   ]
  },
  {
   "cell_type": "code",
   "execution_count": 6,
   "metadata": {},
   "outputs": [],
   "source": [
    "args = parser.parse_args([])\n",
    "args.model_loc = \"/oak/stanford/groups/akundaje/kobbad/UCE/model_files/4layer_model.torch\"\n",
    "\n",
    "#### Set up the model ####\n",
    "token_dim = args.token_dim\n",
    "emsize = 1280  # embedding dimension\n",
    "d_hid = args.d_hid  # dimension of the feedforward network model in nn.TransformerEncoder\n",
    "nlayers = args.nlayers  # number of nn.TransformerEncoderLayer in nn.TransformerEncoder\n",
    "nhead = 20  # number of heads in nn.MultiheadAttention\n",
    "dropout = 0.05  # dropout probability\n",
    "model = TransformerModel(token_dim=token_dim, d_model=emsize, nhead=nhead,\n",
    "                            d_hid=d_hid,\n",
    "                            nlayers=nlayers, dropout=dropout,\n",
    "                            output_dim=args.output_dim)\n",
    "\n",
    "# intialize as empty\n",
    "empty_pe = torch.zeros(145469, 5120)\n",
    "empty_pe.requires_grad = False\n",
    "model.pe_embedding = nn.Embedding.from_pretrained(empty_pe)\n",
    "model.load_state_dict(torch.load(args.model_loc, map_location=\"cpu\"),\n",
    "                        strict=True)\n",
    "# Load in the real token embeddings\n",
    "all_pe = get_ESM2_embeddings(args)"
   ]
  },
  {
   "cell_type": "code",
   "execution_count": 62,
   "metadata": {},
   "outputs": [],
   "source": [
    "if all_pe.shape[0] != 145469: \n",
    "        all_pe.requires_grad = False\n",
    "        model.pe_embedding = nn.Embedding.from_pretrained(all_pe)"
   ]
  },
  {
   "cell_type": "code",
   "execution_count": 63,
   "metadata": {},
   "outputs": [
    {
     "name": "stderr",
     "output_type": "stream",
     "text": [
      "Detected kernel version 5.4.0, which is below the recommended minimum of 5.5.0; this can cause the process to hang. It is recommended to upgrade the kernel to the minimum version or higher.\n"
     ]
    }
   ],
   "source": [
    "model = model.eval()\n",
    "accelerator = Accelerator(project_dir=args.dir)\n",
    "model = accelerator.prepare(model)\n",
    "batch_size = args.batch_size"
   ]
  },
  {
   "cell_type": "code",
   "execution_count": 64,
   "metadata": {},
   "outputs": [
    {
     "data": {
      "text/plain": [
       "Namespace(CHROM_TOKEN_OFFSET=143574, CXG=True, adata_path=None, batch_size=25, chrom_token_left_idx=1, chrom_token_right_idx=2, cls_token_idx=3, d_hid=5120, dir='./', filter=True, model_loc='/oak/stanford/groups/akundaje/kobbad/UCE/model_files/4layer_model.torch', multi_gpu=False, nlayers=4, offset_pkl_path='./model_files/species_offsets.pkl', output_dim=1280, pad_length=1536, pad_token_idx=0, protein_embeddings_dir='./model_files/protein_embeddings/', sample_size=1024, skip=True, spec_chrom_csv_path='./model_files/species_chrom.csv', species='human', token_dim=5120, token_file='./model_files/all_tokens.torch')"
      ]
     },
     "execution_count": 64,
     "metadata": {},
     "output_type": "execute_result"
    }
   ],
   "source": [
    "args"
   ]
  },
  {
   "cell_type": "code",
   "execution_count": 70,
   "metadata": {},
   "outputs": [],
   "source": [
    "gene_symbol_to_embedding = \"./model_files/protein_embeddings/Homo_sapiens.GRCh38.gene_symbol_to_embedding_ESM2.pt\"\n",
    "\n",
    "# load \n",
    "gene_symbol_to_embedding = torch.load(gene_symbol_to_embedding)"
   ]
  },
  {
   "cell_type": "code",
   "execution_count": 81,
   "metadata": {},
   "outputs": [
    {
     "data": {
      "text/plain": [
       "tensor([ 0.1137,  0.0827,  0.1744,  ..., -0.0165,  0.0019, -0.1174])"
      ]
     },
     "execution_count": 81,
     "metadata": {},
     "output_type": "execute_result"
    }
   ],
   "source": [
    "gene_symbol_to_embedding['STAT2']\n"
   ]
  },
  {
   "cell_type": "markdown",
   "metadata": {},
   "source": [
    "I think what I'm going to do is to modify the data collator to take two new arguments. One is a gene list with gene ids that should be masked. "
   ]
  },
  {
   "cell_type": "code",
   "execution_count": null,
   "metadata": {},
   "outputs": [],
   "source": []
  }
 ],
 "metadata": {
  "kernelspec": {
   "display_name": "diff_model",
   "language": "python",
   "name": "python3"
  },
  "language_info": {
   "codemirror_mode": {
    "name": "ipython",
    "version": 3
   },
   "file_extension": ".py",
   "mimetype": "text/x-python",
   "name": "python",
   "nbconvert_exporter": "python",
   "pygments_lexer": "ipython3",
   "version": "3.8.15"
  }
 },
 "nbformat": 4,
 "nbformat_minor": 2
}
