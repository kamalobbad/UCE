{
 "cells": [
  {
   "cell_type": "code",
   "execution_count": 1,
   "metadata": {},
   "outputs": [],
   "source": [
    "import os\n",
    "os.chdir(\"/oak/stanford/groups/akundaje/kobbad/UCE\")\n",
    "from model import *\n",
    "import scanpy as sc\n",
    "from tqdm.auto import tqdm\n",
    "from torch import nn, Tensor\n",
    "from evaluate import get_ESM2_embeddings\n",
    "from utils import get_ESM2_embeddings_x\n",
    "import argparse\n",
    "from accelerate import Accelerator\n",
    "from evaluate import AnndataProcessor\n",
    "from eval_data import MultiDatasetSentences, MultiDatasetSentenceCollator\n",
    "import pickle\n",
    "from torch.utils.data import DataLoader\n",
    "import torch\n",
    "import numpy as np\n",
    "import pickle\n",
    "import pandas as pd"
   ]
  },
  {
   "cell_type": "code",
   "execution_count": 2,
   "metadata": {},
   "outputs": [
    {
     "data": {
      "text/plain": [
       "_StoreAction(option_strings=['--genes_to_pe_idx'], dest='genes_to_pe_idx', nargs=None, const=None, default='./model_files/gene_to_pe_index.pkl', type=<class 'str'>, choices=None, help='Path to gene to protein embedding index mapping', metavar=None)"
      ]
     },
     "execution_count": 2,
     "metadata": {},
     "output_type": "execute_result"
    }
   ],
   "source": [
    "parser = argparse.ArgumentParser(\n",
    "    description='Embed a single anndata using UCE.')\n",
    "\n",
    "# Anndata Processing Arguments\n",
    "parser.add_argument('--adata_path', type=str,\n",
    "                    default=None,\n",
    "                    help='Full path to the anndata you want to embed.')\n",
    "parser.add_argument('--dir', type=str,\n",
    "                    default=\"./\",\n",
    "                    help='Working folder where all files will be saved.')\n",
    "parser.add_argument('--species', type=str, default=\"human\",\n",
    "                    help='Species of the anndata.')\n",
    "parser.add_argument('--filter', type=bool, default=True,\n",
    "                    help='Additional gene/cell filtering on the anndata.')\n",
    "parser.add_argument('--skip', type=bool, default=True,\n",
    "                    help='Skip datasets that appear to have already been created.')\n",
    "\n",
    "# Model Arguments\n",
    "parser.add_argument('--model_loc', type=str,\n",
    "                    default=None,\n",
    "                    help='Location of the model.')\n",
    "parser.add_argument('--batch_size', type=int, default=25,\n",
    "                    help='Batch size.')\n",
    "parser.add_argument('--pad_length', type=int, default=1536,\n",
    "                    help='Batch size.')\n",
    "parser.add_argument(\"--pad_token_idx\", type=int, default=0,\n",
    "                    help=\"PAD token index\")\n",
    "parser.add_argument(\"--chrom_token_left_idx\", type=int, default=1,\n",
    "                    help=\"Chrom token left index\")\n",
    "parser.add_argument(\"--chrom_token_right_idx\", type=int, default=2,\n",
    "                    help=\"Chrom token right index\")\n",
    "parser.add_argument(\"--cls_token_idx\", type=int, default=3,\n",
    "                    help=\"CLS token index\")\n",
    "parser.add_argument(\"--CHROM_TOKEN_OFFSET\", type=int, default=143574,\n",
    "                    help=\"Offset index, tokens after this mark are chromosome identifiers\")\n",
    "parser.add_argument('--sample_size', type=int, default=1024,\n",
    "                    help='Number of genes sampled for cell sentence')\n",
    "parser.add_argument('--CXG', type=bool, default=True,\n",
    "                    help='Use CXG model.')\n",
    "parser.add_argument('--nlayers', type=int, default=4,\n",
    "                    help='Number of transformer layers.')\n",
    "parser.add_argument('--output_dim', type=int, default=1280,\n",
    "                    help='Output dimension.')\n",
    "parser.add_argument('--d_hid', type=int, default=5120,\n",
    "                    help='Hidden dimension.')\n",
    "parser.add_argument('--token_dim', type=int, default=5120,\n",
    "                    help='Token dimension.')\n",
    "parser.add_argument('--multi_gpu', type=bool, default=False,\n",
    "                    help='Use multiple GPUs')\n",
    "\n",
    "# Misc Arguments\n",
    "parser.add_argument(\"--spec_chrom_csv_path\",\n",
    "                    default=\"./model_files/species_chrom.csv\", type=str,\n",
    "                    help=\"CSV Path for species genes to chromosomes and start locations.\")\n",
    "parser.add_argument(\"--token_file\",\n",
    "                    default=\"./model_files/all_tokens.torch\", type=str,\n",
    "                    help=\"Path for token embeddings.\")\n",
    "parser.add_argument(\"--protein_embeddings_dir\",\n",
    "                    default=\"./model_files/protein_embeddings/\", type=str,\n",
    "                    help=\"Directory where protein embedding .pt files are stored.\")\n",
    "parser.add_argument(\"--offset_pkl_path\",\n",
    "                    default=\"./model_files/species_offsets.pkl\", type=str,\n",
    "                        help=\"PKL file which contains offsets for each species.\")\n",
    "\n",
    "# masking arguments\n",
    "parser.add_argument(\"--genes_to_mask\", \n",
    "                    nargs='+',\n",
    "                    default= None,\n",
    "                    type=str,\n",
    "                    help=\"List of genes to mask\")\n",
    "\n",
    "parser.add_argument(\"--genes_to_pe_idx\",\n",
    "                    default=\"./model_files/gene_to_pe_index.pkl\",type=str,\n",
    "                    help=\"Path to gene to protein embedding index mapping\")"
   ]
  },
  {
   "cell_type": "code",
   "execution_count": 3,
   "metadata": {},
   "outputs": [],
   "source": [
    "args = parser.parse_args()"
   ]
  },
  {
   "cell_type": "code",
   "execution_count": 4,
   "metadata": {},
   "outputs": [],
   "source": [
    "args.model_loc = \"/oak/stanford/groups/akundaje/kobbad/UCE/model_files/4layer_model.torch\""
   ]
  },
  {
   "cell_type": "code",
   "execution_count": 5,
   "metadata": {},
   "outputs": [],
   "source": [
    "#### Set up the model ####\n",
    "token_dim = args.token_dim\n",
    "emsize = 1280  # embedding dimension\n",
    "d_hid = args.d_hid  # dimension of the feedforward network model in nn.TransformerEncoder\n",
    "nlayers = args.nlayers  # number of nn.TransformerEncoderLayer in nn.TransformerEncoder\n",
    "nhead = 20  # number of heads in nn.MultiheadAttention\n",
    "dropout = 0.05  # dropout probability\n",
    "model = TransformerModel(token_dim=token_dim, d_model=emsize, nhead=nhead,\n",
    "                            d_hid=d_hid,\n",
    "                            nlayers=nlayers, dropout=dropout,\n",
    "                            output_dim=args.output_dim)"
   ]
  },
  {
   "cell_type": "code",
   "execution_count": 6,
   "metadata": {},
   "outputs": [],
   "source": [
    "# intialize as empty\n",
    "empty_pe = torch.zeros(145469, 5120)\n",
    "empty_pe.requires_grad = False\n",
    "model.pe_embedding = nn.Embedding.from_pretrained(empty_pe)\n",
    "model.load_state_dict(torch.load(args.model_loc, map_location=\"cpu\"),\n",
    "                        strict=True)\n",
    "# Load in the real token embeddings\n",
    "all_pe = get_ESM2_embeddings(args)"
   ]
  },
  {
   "cell_type": "code",
   "execution_count": 7,
   "metadata": {},
   "outputs": [],
   "source": [
    "if all_pe.shape[0] != 145469: \n",
    "        all_pe.requires_grad = False\n",
    "        model.pe_embedding = nn.Embedding.from_pretrained(all_pe)"
   ]
  },
  {
   "cell_type": "code",
   "execution_count": 8,
   "metadata": {},
   "outputs": [
    {
     "name": "stderr",
     "output_type": "stream",
     "text": [
      "Detected kernel version 5.4.0, which is below the recommended minimum of 5.5.0; this can cause the process to hang. It is recommended to upgrade the kernel to the minimum version or higher.\n"
     ]
    }
   ],
   "source": [
    "model = model.eval()\n",
    "accelerator = Accelerator(project_dir=args.dir)\n",
    "model = accelerator.prepare(model)\n",
    "batch_size = args.batch_size"
   ]
  },
  {
   "cell_type": "code",
   "execution_count": 20,
   "metadata": {},
   "outputs": [],
   "source": [
    "ann_object = \"10k_pbmcs_proc_uce_adata.h5ad\"\n",
    "\n",
    "spi1_ko_adata = f\"./SPI1_KO/{ann_object}\"\n",
    "stat2_ko_adata = f\"./STAT2_KO/{ann_object}\"\n",
    "stat2_isg15_ko_adata = f\"./STAT2_ISG15_KO/{ann_object}\"\n",
    "fos_ko_adata = f\"./FOS_KO/{ann_object}\""
   ]
  },
  {
   "cell_type": "code",
   "execution_count": 21,
   "metadata": {},
   "outputs": [],
   "source": [
    "spi1_ko_adata = sc.read(spi1_ko_adata)\n",
    "stat2_ko_adata = sc.read(stat2_ko_adata)\n",
    "stat2_isg15_ko_adata = sc.read(stat2_isg15_ko_adata)\n",
    "fod_ko_adata = sc.read(fos_ko_adata)\n",
    "control_adata = sc.read(\"10k_pbmcs_proc_uce_adata.h5ad\")\n",
    "\n"
   ]
  },
  {
   "cell_type": "code",
   "execution_count": 11,
   "metadata": {},
   "outputs": [
    {
     "data": {
      "text/plain": [
       "array([[ 3.4580035e-03, -2.3529574e-02, -3.1182794e-02, ...,\n",
       "        -8.0126669e-04,  2.1853451e-02, -6.1218746e-02],\n",
       "       [ 2.3518290e-02, -3.1451914e-02, -1.5527843e-03, ...,\n",
       "        -1.9831159e-05,  7.7214935e-03, -3.6870152e-02],\n",
       "       [ 2.1272138e-02, -5.7123741e-03, -9.9359388e-03, ...,\n",
       "        -9.8184915e-03,  3.0129295e-02, -9.4538536e-03],\n",
       "       ...,\n",
       "       [ 1.0827974e-02,  1.1530056e-02, -2.9507408e-02, ...,\n",
       "        -3.1399436e-04, -3.2667364e-03, -5.3507641e-02],\n",
       "       [ 2.4108812e-03, -6.4325400e-02,  3.3457559e-02, ...,\n",
       "         5.7656444e-03,  2.6347797e-02, -5.7232667e-02],\n",
       "       [ 1.8112633e-02, -8.6961975e-03,  1.6486976e-02, ...,\n",
       "         1.0617969e-02,  2.7339006e-02,  1.3155853e-03]], dtype=float32)"
      ]
     },
     "execution_count": 11,
     "metadata": {},
     "output_type": "execute_result"
    }
   ],
   "source": [
    "# these are the cell embeddings \n",
    "stat2_ko_adata.obsm['X_uce']"
   ]
  },
  {
   "cell_type": "code",
   "execution_count": 12,
   "metadata": {},
   "outputs": [],
   "source": [
    "# read in the gene to protein embedding index mapping\n",
    "with open(args.genes_to_pe_idx, 'rb') as f:\n",
    "    gene_to_pe_idx = pickle.load(f)"
   ]
  },
  {
   "cell_type": "code",
   "execution_count": 13,
   "metadata": {},
   "outputs": [
    {
     "data": {
      "text/plain": [
       "tensor([ 0.1137,  0.0827,  0.1744,  ..., -0.0165,  0.0019, -0.1174],\n",
       "       device='cuda:0')"
      ]
     },
     "execution_count": 13,
     "metadata": {},
     "output_type": "execute_result"
    }
   ],
   "source": [
    "model.pe_embedding(torch.tensor(gene_to_pe_idx[\"STAT2\"]).to('cuda'))"
   ]
  },
  {
   "cell_type": "code",
   "execution_count": 14,
   "metadata": {},
   "outputs": [
    {
     "data": {
      "text/plain": [
       "(torch.Size([11990, 1280]), torch.Size([11990, 1280]))"
      ]
     },
     "execution_count": 14,
     "metadata": {},
     "output_type": "execute_result"
    }
   ],
   "source": [
    "statko_cell_embeddings = torch.Tensor(stat2_ko_adata.obsm['X_uce']).to('cuda')\n",
    "control_cell_embeddings = torch.Tensor(control_adata.obsm['X_uce']).to('cuda')\n",
    "\n",
    "statko_cell_embeddings.shape, control_cell_embeddings.shape"
   ]
  },
  {
   "cell_type": "code",
   "execution_count": 15,
   "metadata": {},
   "outputs": [],
   "source": [
    "STAT2_gene_embedding = all_pe[torch.tensor(gene_to_pe_idx[\"STAT2\"]).to('cuda')].to('cuda')"
   ]
  },
  {
   "cell_type": "code",
   "execution_count": 50,
   "metadata": {},
   "outputs": [
    {
     "data": {
      "image/png": "[encoded data removed]",
      "text/plain": [
       "<Figure size 640x480 with 1 Axes>"
      ]
     },
     "metadata": {},
     "output_type": "display_data"
    }
   ],
   "source": [
    "import matplotlib.pyplot as plt\n",
    "\n",
    "plt.hist(np.array(logits_STAT2_expression_control) - np.array(logits_STAT2_expression_ko), bins=100);"
   ]
  },
  {
   "cell_type": "code",
   "execution_count": 76,
   "metadata": {},
   "outputs": [
    {
     "data": {
      "image/png": "[encoded data removed]",
      "text/plain": [
       "<Figure size 640x480 with 1 Axes>"
      ]
     },
     "metadata": {},
     "output_type": "display_data"
    }
   ],
   "source": [
    "plt.hist(np.array(logits_STAT2_expression_control), bins=100, alpha=0.5, label=\"Control\");\n",
    "plt.hist(np.array(logits_STAT2_expression_ko), bins=100, alpha=0.5, label=\"STAT2 KO\");\n",
    "plt.title(\"STAT2 Expression\");\n",
    "plt.legend();\n",
    "\n",
    "plt.show()"
   ]
  },
  {
   "cell_type": "code",
   "execution_count": 97,
   "metadata": {},
   "outputs": [
    {
     "data": {
      "text/plain": [
       "10809"
      ]
     },
     "execution_count": 97,
     "metadata": {},
     "output_type": "execute_result"
    }
   ],
   "source": [
    "len(gene_to_pe_idx.keys())"
   ]
  },
  {
   "cell_type": "code",
   "execution_count": 51,
   "metadata": {},
   "outputs": [],
   "source": [
    "ISG15_gene_embedding = all_pe[torch.tensor(gene_to_pe_idx[\"ISG15\"]).to('cuda')].to('cuda')"
   ]
  },
  {
   "cell_type": "code",
   "execution_count": 52,
   "metadata": {},
   "outputs": [
    {
     "name": "stderr",
     "output_type": "stream",
     "text": [
      "100%|██████████| 11990/11990 [00:09<00:00, 1286.67it/s]\n"
     ]
    }
   ],
   "source": [
    "logits_ISG15_expression_ko = []\n",
    "logits_ISG15_expression_control = []\n",
    "\n",
    "\n",
    "for i in tqdm(range(0, statko_cell_embeddings.shape[0])):\n",
    "    logits_ISG15_expression_ko.append(model.predict(statko_cell_embeddings[i], ISG15_gene_embedding).detach().cpu().numpy()[0])\n",
    "    logits_ISG15_expression_control.append(model.predict(control_cell_embeddings[i], ISG15_gene_embedding).detach().cpu().numpy()[0])\n"
   ]
  },
  {
   "cell_type": "code",
   "execution_count": 53,
   "metadata": {},
   "outputs": [
    {
     "data": {
      "image/png": "[encoded data removed]",
      "text/plain": [
       "<Figure size 640x480 with 1 Axes>"
      ]
     },
     "metadata": {},
     "output_type": "display_data"
    }
   ],
   "source": [
    "import matplotlib.pyplot as plt\n",
    "\n",
    "plt.hist(np.array(logits_ISG15_expression_control) - np.array(logits_ISG15_expression_ko), bins=100);"
   ]
  },
  {
   "cell_type": "code",
   "execution_count": 59,
   "metadata": {},
   "outputs": [
    {
     "data": {
      "image/png": "[encoded data removed]",
      "text/plain": [
       "<Figure size 640x480 with 1 Axes>"
      ]
     },
     "metadata": {},
     "output_type": "display_data"
    }
   ],
   "source": [
    "plt.hist(np.array(logits_ISG15_expression_control), bins=100, color=\"blue\", alpha=0.5, label=\"Control\");\n",
    "plt.hist(np.array(logits_ISG15_expression_ko), bins=100, color=\"red\", alpha=0.5, label=\"STAT2 KO\");\n",
    "plt.xlabel(\"ISG15 Expression Prediction\");\n",
    "plt.title(\"STAT2 KO in PBMCs\");\n",
    "plt.legend();\n"
   ]
  },
  {
   "cell_type": "markdown",
   "metadata": {},
   "source": [
    "Trying inference using the same embeddings twice in case the difference is noise"
   ]
  },
  {
   "cell_type": "code",
   "execution_count": 73,
   "metadata": {},
   "outputs": [
    {
     "name": "stderr",
     "output_type": "stream",
     "text": [
      "100%|██████████| 11990/11990 [00:09<00:00, 1252.16it/s]\n"
     ]
    }
   ],
   "source": [
    "logits_ISG15_expression_control_rep1 = []\n",
    "logits_ISG15_expression_control_rep2 = []\n",
    "\n",
    "\n",
    "for i in tqdm(range(0, statko_cell_embeddings.shape[0])):\n",
    "    logits_ISG15_expression_control_rep1.append(model.predict(control_cell_embeddings[i], ISG15_gene_embedding).detach().cpu().numpy()[0])\n",
    "    logits_ISG15_expression_control_rep2.append(model.predict(control_cell_embeddings[i], ISG15_gene_embedding).detach().cpu().numpy()[0])\n"
   ]
  },
  {
   "cell_type": "code",
   "execution_count": 75,
   "metadata": {},
   "outputs": [
    {
     "data": {
      "image/png": "[encoded data removed]",
      "text/plain": [
       "<Figure size 640x480 with 1 Axes>"
      ]
     },
     "metadata": {},
     "output_type": "display_data"
    }
   ],
   "source": [
    "plt.hist(np.array(logits_ISG15_expression_control_rep1) - np.array(logits_ISG15_expression_control_rep2), bins=100, color=\"blue\", alpha=0.5, label=\"Control Rep 1\");\n",
    "\n"
   ]
  },
  {
   "cell_type": "markdown",
   "metadata": {},
   "source": [
    "Maybe, I need to look at cell type specific transcription factors for cell types and see if the model learns a correlation? "
   ]
  },
  {
   "cell_type": "code",
   "execution_count": 18,
   "metadata": {},
   "outputs": [
    {
     "data": {
      "text/html": [
       "<div>\n",
       "<style scoped>\n",
       "    .dataframe tbody tr th:only-of-type {\n",
       "        vertical-align: middle;\n",
       "    }\n",
       "\n",
       "    .dataframe tbody tr th {\n",
       "        vertical-align: top;\n",
       "    }\n",
       "\n",
       "    .dataframe thead th {\n",
       "        text-align: right;\n",
       "    }\n",
       "</style>\n",
       "<table border=\"1\" class=\"dataframe\">\n",
       "  <thead>\n",
       "    <tr style=\"text-align: right;\">\n",
       "      <th>gene_symbols</th>\n",
       "      <th>SAMD11</th>\n",
       "      <th>PLEKHN1</th>\n",
       "      <th>HES4</th>\n",
       "      <th>ISG15</th>\n",
       "      <th>AGRN</th>\n",
       "      <th>C1orf159</th>\n",
       "      <th>TTLL10</th>\n",
       "      <th>TNFRSF18</th>\n",
       "      <th>TNFRSF4</th>\n",
       "      <th>SDF4</th>\n",
       "      <th>...</th>\n",
       "      <th>S100B</th>\n",
       "      <th>PRMT2</th>\n",
       "      <th>MT-ND1</th>\n",
       "      <th>MT-CO1</th>\n",
       "      <th>MT-CO2</th>\n",
       "      <th>MT-ATP8</th>\n",
       "      <th>MT-ATP6</th>\n",
       "      <th>MT-CO3</th>\n",
       "      <th>MT-ND4</th>\n",
       "      <th>MT-ND6</th>\n",
       "    </tr>\n",
       "    <tr>\n",
       "      <th>cell_type</th>\n",
       "      <th></th>\n",
       "      <th></th>\n",
       "      <th></th>\n",
       "      <th></th>\n",
       "      <th></th>\n",
       "      <th></th>\n",
       "      <th></th>\n",
       "      <th></th>\n",
       "      <th></th>\n",
       "      <th></th>\n",
       "      <th></th>\n",
       "      <th></th>\n",
       "      <th></th>\n",
       "      <th></th>\n",
       "      <th></th>\n",
       "      <th></th>\n",
       "      <th></th>\n",
       "      <th></th>\n",
       "      <th></th>\n",
       "      <th></th>\n",
       "      <th></th>\n",
       "    </tr>\n",
       "  </thead>\n",
       "  <tbody>\n",
       "    <tr>\n",
       "      <th>CD4 T cells</th>\n",
       "      <td>0.0</td>\n",
       "      <td>0.0</td>\n",
       "      <td>0.0</td>\n",
       "      <td>1.0</td>\n",
       "      <td>0.0</td>\n",
       "      <td>0.0</td>\n",
       "      <td>0.0</td>\n",
       "      <td>0.0</td>\n",
       "      <td>4.0</td>\n",
       "      <td>0.0</td>\n",
       "      <td>...</td>\n",
       "      <td>0.0</td>\n",
       "      <td>1.0</td>\n",
       "      <td>7.0</td>\n",
       "      <td>15.0</td>\n",
       "      <td>9.0</td>\n",
       "      <td>0.0</td>\n",
       "      <td>1.0</td>\n",
       "      <td>14.0</td>\n",
       "      <td>8.0</td>\n",
       "      <td>0.0</td>\n",
       "    </tr>\n",
       "    <tr>\n",
       "      <th>CD4 T cells</th>\n",
       "      <td>0.0</td>\n",
       "      <td>0.0</td>\n",
       "      <td>0.0</td>\n",
       "      <td>0.0</td>\n",
       "      <td>0.0</td>\n",
       "      <td>0.0</td>\n",
       "      <td>0.0</td>\n",
       "      <td>0.0</td>\n",
       "      <td>0.0</td>\n",
       "      <td>1.0</td>\n",
       "      <td>...</td>\n",
       "      <td>0.0</td>\n",
       "      <td>0.0</td>\n",
       "      <td>4.0</td>\n",
       "      <td>3.0</td>\n",
       "      <td>6.0</td>\n",
       "      <td>0.0</td>\n",
       "      <td>3.0</td>\n",
       "      <td>6.0</td>\n",
       "      <td>4.0</td>\n",
       "      <td>1.0</td>\n",
       "    </tr>\n",
       "    <tr>\n",
       "      <th>CD14+ Monocytes</th>\n",
       "      <td>0.0</td>\n",
       "      <td>0.0</td>\n",
       "      <td>0.0</td>\n",
       "      <td>0.0</td>\n",
       "      <td>0.0</td>\n",
       "      <td>0.0</td>\n",
       "      <td>0.0</td>\n",
       "      <td>0.0</td>\n",
       "      <td>0.0</td>\n",
       "      <td>0.0</td>\n",
       "      <td>...</td>\n",
       "      <td>0.0</td>\n",
       "      <td>1.0</td>\n",
       "      <td>7.0</td>\n",
       "      <td>37.0</td>\n",
       "      <td>25.0</td>\n",
       "      <td>0.0</td>\n",
       "      <td>10.0</td>\n",
       "      <td>23.0</td>\n",
       "      <td>19.0</td>\n",
       "      <td>0.0</td>\n",
       "    </tr>\n",
       "    <tr>\n",
       "      <th>CD14+ Monocytes</th>\n",
       "      <td>0.0</td>\n",
       "      <td>0.0</td>\n",
       "      <td>0.0</td>\n",
       "      <td>0.0</td>\n",
       "      <td>0.0</td>\n",
       "      <td>0.0</td>\n",
       "      <td>0.0</td>\n",
       "      <td>0.0</td>\n",
       "      <td>0.0</td>\n",
       "      <td>1.0</td>\n",
       "      <td>...</td>\n",
       "      <td>0.0</td>\n",
       "      <td>0.0</td>\n",
       "      <td>6.0</td>\n",
       "      <td>48.0</td>\n",
       "      <td>25.0</td>\n",
       "      <td>0.0</td>\n",
       "      <td>16.0</td>\n",
       "      <td>22.0</td>\n",
       "      <td>15.0</td>\n",
       "      <td>0.0</td>\n",
       "    </tr>\n",
       "    <tr>\n",
       "      <th>CD8 T cells</th>\n",
       "      <td>0.0</td>\n",
       "      <td>0.0</td>\n",
       "      <td>0.0</td>\n",
       "      <td>0.0</td>\n",
       "      <td>0.0</td>\n",
       "      <td>0.0</td>\n",
       "      <td>0.0</td>\n",
       "      <td>0.0</td>\n",
       "      <td>0.0</td>\n",
       "      <td>0.0</td>\n",
       "      <td>...</td>\n",
       "      <td>0.0</td>\n",
       "      <td>0.0</td>\n",
       "      <td>9.0</td>\n",
       "      <td>19.0</td>\n",
       "      <td>16.0</td>\n",
       "      <td>0.0</td>\n",
       "      <td>10.0</td>\n",
       "      <td>13.0</td>\n",
       "      <td>17.0</td>\n",
       "      <td>0.0</td>\n",
       "    </tr>\n",
       "  </tbody>\n",
       "</table>\n",
       "<p>5 rows × 10809 columns</p>\n",
       "</div>"
      ],
      "text/plain": [
       "gene_symbols     SAMD11  PLEKHN1  HES4  ISG15  AGRN  C1orf159  TTLL10  \\\n",
       "cell_type                                                               \n",
       "CD4 T cells         0.0      0.0   0.0    1.0   0.0       0.0     0.0   \n",
       "CD4 T cells         0.0      0.0   0.0    0.0   0.0       0.0     0.0   \n",
       "CD14+ Monocytes     0.0      0.0   0.0    0.0   0.0       0.0     0.0   \n",
       "CD14+ Monocytes     0.0      0.0   0.0    0.0   0.0       0.0     0.0   \n",
       "CD8 T cells         0.0      0.0   0.0    0.0   0.0       0.0     0.0   \n",
       "\n",
       "gene_symbols     TNFRSF18  TNFRSF4  SDF4  ...  S100B  PRMT2  MT-ND1  MT-CO1  \\\n",
       "cell_type                                 ...                                 \n",
       "CD4 T cells           0.0      4.0   0.0  ...    0.0    1.0     7.0    15.0   \n",
       "CD4 T cells           0.0      0.0   1.0  ...    0.0    0.0     4.0     3.0   \n",
       "CD14+ Monocytes       0.0      0.0   0.0  ...    0.0    1.0     7.0    37.0   \n",
       "CD14+ Monocytes       0.0      0.0   1.0  ...    0.0    0.0     6.0    48.0   \n",
       "CD8 T cells           0.0      0.0   0.0  ...    0.0    0.0     9.0    19.0   \n",
       "\n",
       "gene_symbols     MT-CO2  MT-ATP8  MT-ATP6  MT-CO3  MT-ND4  MT-ND6  \n",
       "cell_type                                                          \n",
       "CD4 T cells         9.0      0.0      1.0    14.0     8.0     0.0  \n",
       "CD4 T cells         6.0      0.0      3.0     6.0     4.0     1.0  \n",
       "CD14+ Monocytes    25.0      0.0     10.0    23.0    19.0     0.0  \n",
       "CD14+ Monocytes    25.0      0.0     16.0    22.0    15.0     0.0  \n",
       "CD8 T cells        16.0      0.0     10.0    13.0    17.0     0.0  \n",
       "\n",
       "[5 rows x 10809 columns]"
      ]
     },
     "execution_count": 18,
     "metadata": {},
     "output_type": "execute_result"
    }
   ],
   "source": [
    "# Convert the data in control_adata.X to a DataFrame\n",
    "counts_data = pd.DataFrame(control_adata.X.toarray() if hasattr(control_adata.X, \"toarray\") else control_adata.X, \n",
    "                  index=control_adata.obs['cell_type'], \n",
    "                  columns=control_adata.var['gene_symbols'])\n",
    "\n",
    "# Display the resulting DataFrame\n",
    "counts_data.head()"
   ]
  },
  {
   "cell_type": "code",
   "execution_count": 19,
   "metadata": {},
   "outputs": [],
   "source": [
    "counts_data_rank = counts_data.rank(axis=1, pct=True)"
   ]
  },
  {
   "cell_type": "code",
   "execution_count": 20,
   "metadata": {},
   "outputs": [
    {
     "data": {
      "text/html": [
       "<div>\n",
       "<style scoped>\n",
       "    .dataframe tbody tr th:only-of-type {\n",
       "        vertical-align: middle;\n",
       "    }\n",
       "\n",
       "    .dataframe tbody tr th {\n",
       "        vertical-align: top;\n",
       "    }\n",
       "\n",
       "    .dataframe thead th {\n",
       "        text-align: right;\n",
       "    }\n",
       "</style>\n",
       "<table border=\"1\" class=\"dataframe\">\n",
       "  <thead>\n",
       "    <tr style=\"text-align: right;\">\n",
       "      <th>gene_symbols</th>\n",
       "      <th>SAMD11</th>\n",
       "      <th>PLEKHN1</th>\n",
       "      <th>HES4</th>\n",
       "      <th>ISG15</th>\n",
       "      <th>AGRN</th>\n",
       "      <th>C1orf159</th>\n",
       "      <th>TTLL10</th>\n",
       "      <th>TNFRSF18</th>\n",
       "      <th>TNFRSF4</th>\n",
       "      <th>SDF4</th>\n",
       "      <th>...</th>\n",
       "      <th>S100B</th>\n",
       "      <th>PRMT2</th>\n",
       "      <th>MT-ND1</th>\n",
       "      <th>MT-CO1</th>\n",
       "      <th>MT-CO2</th>\n",
       "      <th>MT-ATP8</th>\n",
       "      <th>MT-ATP6</th>\n",
       "      <th>MT-CO3</th>\n",
       "      <th>MT-ND4</th>\n",
       "      <th>MT-ND6</th>\n",
       "    </tr>\n",
       "    <tr>\n",
       "      <th>cell_type</th>\n",
       "      <th></th>\n",
       "      <th></th>\n",
       "      <th></th>\n",
       "      <th></th>\n",
       "      <th></th>\n",
       "      <th></th>\n",
       "      <th></th>\n",
       "      <th></th>\n",
       "      <th></th>\n",
       "      <th></th>\n",
       "      <th></th>\n",
       "      <th></th>\n",
       "      <th></th>\n",
       "      <th></th>\n",
       "      <th></th>\n",
       "      <th></th>\n",
       "      <th></th>\n",
       "      <th></th>\n",
       "      <th></th>\n",
       "      <th></th>\n",
       "      <th></th>\n",
       "    </tr>\n",
       "  </thead>\n",
       "  <tbody>\n",
       "    <tr>\n",
       "      <th>CD4 T cells</th>\n",
       "      <td>0.466047</td>\n",
       "      <td>0.466047</td>\n",
       "      <td>0.466047</td>\n",
       "      <td>0.959710</td>\n",
       "      <td>0.466047</td>\n",
       "      <td>0.466047</td>\n",
       "      <td>0.466047</td>\n",
       "      <td>0.466047</td>\n",
       "      <td>0.995559</td>\n",
       "      <td>0.466047</td>\n",
       "      <td>...</td>\n",
       "      <td>0.466047</td>\n",
       "      <td>0.959710</td>\n",
       "      <td>0.997317</td>\n",
       "      <td>0.998520</td>\n",
       "      <td>0.997780</td>\n",
       "      <td>0.466047</td>\n",
       "      <td>0.959710</td>\n",
       "      <td>0.998242</td>\n",
       "      <td>0.997595</td>\n",
       "      <td>0.466047</td>\n",
       "    </tr>\n",
       "    <tr>\n",
       "      <th>CD4 T cells</th>\n",
       "      <td>0.479277</td>\n",
       "      <td>0.479277</td>\n",
       "      <td>0.479277</td>\n",
       "      <td>0.479277</td>\n",
       "      <td>0.479277</td>\n",
       "      <td>0.479277</td>\n",
       "      <td>0.479277</td>\n",
       "      <td>0.479277</td>\n",
       "      <td>0.479277</td>\n",
       "      <td>0.975900</td>\n",
       "      <td>...</td>\n",
       "      <td>0.479277</td>\n",
       "      <td>0.479277</td>\n",
       "      <td>0.997502</td>\n",
       "      <td>0.996623</td>\n",
       "      <td>0.998381</td>\n",
       "      <td>0.479277</td>\n",
       "      <td>0.996623</td>\n",
       "      <td>0.998381</td>\n",
       "      <td>0.997502</td>\n",
       "      <td>0.975900</td>\n",
       "    </tr>\n",
       "    <tr>\n",
       "      <th>CD14+ Monocytes</th>\n",
       "      <td>0.456471</td>\n",
       "      <td>0.456471</td>\n",
       "      <td>0.456471</td>\n",
       "      <td>0.456471</td>\n",
       "      <td>0.456471</td>\n",
       "      <td>0.456471</td>\n",
       "      <td>0.456471</td>\n",
       "      <td>0.456471</td>\n",
       "      <td>0.456471</td>\n",
       "      <td>0.456471</td>\n",
       "      <td>...</td>\n",
       "      <td>0.456471</td>\n",
       "      <td>0.944491</td>\n",
       "      <td>0.995559</td>\n",
       "      <td>0.999306</td>\n",
       "      <td>0.998705</td>\n",
       "      <td>0.456471</td>\n",
       "      <td>0.996947</td>\n",
       "      <td>0.998520</td>\n",
       "      <td>0.998057</td>\n",
       "      <td>0.456471</td>\n",
       "    </tr>\n",
       "    <tr>\n",
       "      <th>CD14+ Monocytes</th>\n",
       "      <td>0.457304</td>\n",
       "      <td>0.457304</td>\n",
       "      <td>0.457304</td>\n",
       "      <td>0.457304</td>\n",
       "      <td>0.457304</td>\n",
       "      <td>0.457304</td>\n",
       "      <td>0.457304</td>\n",
       "      <td>0.457304</td>\n",
       "      <td>0.457304</td>\n",
       "      <td>0.945462</td>\n",
       "      <td>...</td>\n",
       "      <td>0.457304</td>\n",
       "      <td>0.457304</td>\n",
       "      <td>0.995606</td>\n",
       "      <td>0.999445</td>\n",
       "      <td>0.998659</td>\n",
       "      <td>0.457304</td>\n",
       "      <td>0.997780</td>\n",
       "      <td>0.998288</td>\n",
       "      <td>0.997456</td>\n",
       "      <td>0.457304</td>\n",
       "    </tr>\n",
       "    <tr>\n",
       "      <th>CD8 T cells</th>\n",
       "      <td>0.468082</td>\n",
       "      <td>0.468082</td>\n",
       "      <td>0.468082</td>\n",
       "      <td>0.468082</td>\n",
       "      <td>0.468082</td>\n",
       "      <td>0.468082</td>\n",
       "      <td>0.468082</td>\n",
       "      <td>0.468082</td>\n",
       "      <td>0.468082</td>\n",
       "      <td>0.468082</td>\n",
       "      <td>...</td>\n",
       "      <td>0.468082</td>\n",
       "      <td>0.468082</td>\n",
       "      <td>0.997595</td>\n",
       "      <td>0.999722</td>\n",
       "      <td>0.999214</td>\n",
       "      <td>0.468082</td>\n",
       "      <td>0.998057</td>\n",
       "      <td>0.998566</td>\n",
       "      <td>0.999491</td>\n",
       "      <td>0.468082</td>\n",
       "    </tr>\n",
       "  </tbody>\n",
       "</table>\n",
       "<p>5 rows × 10809 columns</p>\n",
       "</div>"
      ],
      "text/plain": [
       "gene_symbols       SAMD11   PLEKHN1      HES4     ISG15      AGRN  C1orf159  \\\n",
       "cell_type                                                                     \n",
       "CD4 T cells      0.466047  0.466047  0.466047  0.959710  0.466047  0.466047   \n",
       "CD4 T cells      0.479277  0.479277  0.479277  0.479277  0.479277  0.479277   \n",
       "CD14+ Monocytes  0.456471  0.456471  0.456471  0.456471  0.456471  0.456471   \n",
       "CD14+ Monocytes  0.457304  0.457304  0.457304  0.457304  0.457304  0.457304   \n",
       "CD8 T cells      0.468082  0.468082  0.468082  0.468082  0.468082  0.468082   \n",
       "\n",
       "gene_symbols       TTLL10  TNFRSF18   TNFRSF4      SDF4  ...     S100B  \\\n",
       "cell_type                                                ...             \n",
       "CD4 T cells      0.466047  0.466047  0.995559  0.466047  ...  0.466047   \n",
       "CD4 T cells      0.479277  0.479277  0.479277  0.975900  ...  0.479277   \n",
       "CD14+ Monocytes  0.456471  0.456471  0.456471  0.456471  ...  0.456471   \n",
       "CD14+ Monocytes  0.457304  0.457304  0.457304  0.945462  ...  0.457304   \n",
       "CD8 T cells      0.468082  0.468082  0.468082  0.468082  ...  0.468082   \n",
       "\n",
       "gene_symbols        PRMT2    MT-ND1    MT-CO1    MT-CO2   MT-ATP8   MT-ATP6  \\\n",
       "cell_type                                                                     \n",
       "CD4 T cells      0.959710  0.997317  0.998520  0.997780  0.466047  0.959710   \n",
       "CD4 T cells      0.479277  0.997502  0.996623  0.998381  0.479277  0.996623   \n",
       "CD14+ Monocytes  0.944491  0.995559  0.999306  0.998705  0.456471  0.996947   \n",
       "CD14+ Monocytes  0.457304  0.995606  0.999445  0.998659  0.457304  0.997780   \n",
       "CD8 T cells      0.468082  0.997595  0.999722  0.999214  0.468082  0.998057   \n",
       "\n",
       "gene_symbols       MT-CO3    MT-ND4    MT-ND6  \n",
       "cell_type                                      \n",
       "CD4 T cells      0.998242  0.997595  0.466047  \n",
       "CD4 T cells      0.998381  0.997502  0.975900  \n",
       "CD14+ Monocytes  0.998520  0.998057  0.456471  \n",
       "CD14+ Monocytes  0.998288  0.997456  0.457304  \n",
       "CD8 T cells      0.998566  0.999491  0.468082  \n",
       "\n",
       "[5 rows x 10809 columns]"
      ]
     },
     "execution_count": 20,
     "metadata": {},
     "output_type": "execute_result"
    }
   ],
   "source": [
    "counts_data_rank.head()"
   ]
  },
  {
   "cell_type": "markdown",
   "metadata": {},
   "source": [
    "run analysis on all the genes and produce logits and then softmax"
   ]
  },
  {
   "cell_type": "code",
   "execution_count": 23,
   "metadata": {},
   "outputs": [],
   "source": [
    "gene_emb_indices =[gene_to_pe_idx[gene] for gene in control_adata.var['gene_symbols']]"
   ]
  },
  {
   "cell_type": "code",
   "execution_count": 24,
   "metadata": {},
   "outputs": [
    {
     "data": {
      "text/plain": [
       "torch.Size([10809, 1280])"
      ]
     },
     "execution_count": 24,
     "metadata": {},
     "output_type": "execute_result"
    }
   ],
   "source": [
    "embeddings = model.pe_embedding(torch.tensor(gene_emb_indices).to('cuda'))\n",
    "\n",
    "model.gene_embedding_layer(embeddings).shape"
   ]
  },
  {
   "cell_type": "code",
   "execution_count": 25,
   "metadata": {},
   "outputs": [
    {
     "data": {
      "text/plain": [
       "torch.Size([10809, 5120])"
      ]
     },
     "execution_count": 25,
     "metadata": {},
     "output_type": "execute_result"
    }
   ],
   "source": [
    "embeddings.shape"
   ]
  },
  {
   "cell_type": "code",
   "execution_count": 22,
   "metadata": {},
   "outputs": [],
   "source": [
    "control_embeddings = torch.tensor(control_adata.obsm['X_uce']).to('cuda')\n",
    "stat2_ko_embeddings = torch.tensor(stat2_ko_adata.obsm['X_uce']).to('cuda')\n",
    "stat2_isg15_ko_embeddings = torch.tensor(stat2_isg15_ko_adata.obsm['X_uce']).to('cuda')\n",
    "fos_ko_embeddings = torch.tensor(fod_ko_adata.obsm['X_uce']).to('cuda')"
   ]
  },
  {
   "cell_type": "code",
   "execution_count": 26,
   "metadata": {},
   "outputs": [
    {
     "name": "stderr",
     "output_type": "stream",
     "text": [
      "100%|██████████| 480/480 [07:20<00:00,  1.09it/s]\n"
     ]
    }
   ],
   "source": [
    "batch_size =25\n",
    "\n",
    "results_control = []\n",
    "results_stat2_ko = []\n",
    "results_stat2_isg15_ko = []\n",
    "results_fos_ko = []\n",
    "\n",
    "for i in tqdm(range(0, control_embeddings.shape[0], batch_size)):\n",
    "\n",
    "    cell_embedding_batch_control = control_embeddings[i:i+batch_size]\n",
    "    cell_embedding_batch_stat2_ko = stat2_ko_embeddings[i:i+batch_size]\n",
    "    cell_embedding_batch_stat2_isg15_ko = stat2_isg15_ko_embeddings[i:i+batch_size]\n",
    "    cell_embedding_batch_fos_ko = fos_ko_embeddings[i:i+batch_size]\n",
    "\n",
    "    dec_control = model.predict(cell_embedding_batch_control, embeddings)\n",
    "    dec_stat2_ko = model.predict(cell_embedding_batch_stat2_ko, embeddings)\n",
    "    dec_stat2_isg15_ko = model.predict(cell_embedding_batch_stat2_isg15_ko, embeddings)\n",
    "    dec_fos_ko = model.predict(cell_embedding_batch_fos_ko, embeddings)\n",
    "\n",
    "    results_control.append(dec_control.detach().cpu())\n",
    "    results_stat2_ko.append(dec_stat2_ko.detach().cpu())\n",
    "    results_stat2_isg15_ko.append(dec_stat2_isg15_ko.detach().cpu())\n",
    "    results_fos_ko.append(dec_fos_ko.detach().cpu())\n"
   ]
  },
  {
   "cell_type": "code",
   "execution_count": 27,
   "metadata": {},
   "outputs": [],
   "source": [
    "results_control_torch = torch.tensor(np.concatenate(results_control)).squeeze()\n",
    "results_stat2_ko_torch = torch.tensor(np.concatenate(results_stat2_ko)).squeeze()\n",
    "results_stat2_isg15_ko_torch = torch.tensor(np.concatenate(results_stat2_isg15_ko)).squeeze()\n",
    "results_fos_ko_torch = torch.tensor(np.concatenate(results_fos_ko)).squeeze()"
   ]
  },
  {
   "cell_type": "code",
   "execution_count": 28,
   "metadata": {},
   "outputs": [],
   "source": [
    "probs_control = torch.nn.functional.softmax(results_control_torch, dim=1)\n",
    "probs_stat2_ko = torch.nn.functional.softmax(results_stat2_ko_torch, dim=1)\n",
    "probs_stat2_isg15_ko = torch.nn.functional.softmax(results_stat2_isg15_ko_torch, dim=1)\n",
    "probs_fos_ko = torch.nn.functional.softmax(results_fos_ko_torch, dim=1)"
   ]
  },
  {
   "cell_type": "code",
   "execution_count": 29,
   "metadata": {},
   "outputs": [
    {
     "data": {
      "image/png": "[encoded data removed]",
      "text/plain": [
       "<Figure size 1000x500 with 1 Axes>"
      ]
     },
     "metadata": {},
     "output_type": "display_data"
    }
   ],
   "source": [
    "import matplotlib.pyplot as plt\n",
    "\n",
    "fig, ax = plt.subplots(figsize=(10, 5))\n",
    "ax.hist(probs_control[:,3].detach().cpu().numpy(), bins=100, color=\"blue\", alpha=0.5, label=\"Control\");\n",
    "ax.hist(probs_stat2_ko[:,3].detach().cpu().numpy(), bins=100, color=\"red\", alpha=0.5, label=\"STAT2 KO\");\n",
    "\n",
    "ax.title.set_text(\"ISG15 Expression in PBMCs\");\n",
    "ax.legend();\n",
    "\n",
    "ax.set_xlabel(\"P(ISG15) Expression Prediction\");"
   ]
  },
  {
   "cell_type": "code",
   "execution_count": 32,
   "metadata": {},
   "outputs": [
    {
     "data": {
      "image/png": "[encoded data removed]",
      "text/plain": [
       "<Figure size 1000x500 with 1 Axes>"
      ]
     },
     "metadata": {},
     "output_type": "display_data"
    }
   ],
   "source": [
    "fig, ax = plt.subplots(figsize=(10, 5))\n",
    "ax.hist(probs_control[:,3214].detach().cpu().numpy(), bins=100, color=\"blue\", alpha=0.5, label=\"Control\");\n",
    "ax.hist(probs_fos_ko[:,3214].detach().cpu().numpy(), bins=100, color=\"red\", alpha=0.5, label=\"FOS KO\");\n",
    "\n",
    "ax.title.set_text(\"DUSP1 Expression in PBMCs FOS KO\");\n",
    "ax.legend();"
   ]
  },
  {
   "cell_type": "code",
   "execution_count": 42,
   "metadata": {},
   "outputs": [
    {
     "data": {
      "image/png": "[encoded data removed]",
      "text/plain": [
       "<Figure size 640x480 with 1 Axes>"
      ]
     },
     "metadata": {},
     "output_type": "display_data"
    }
   ],
   "source": [
    "FOS_ko_effect = results_fos_ko_torch - results_control_torch\n",
    "\n",
    "average_FOS_ko_effect = FOS_ko_effect.mean(axis=0)\n",
    "\n",
    "plt.hist(average_FOS_ko_effect, bins=100);"
   ]
  },
  {
   "cell_type": "code",
   "execution_count": 51,
   "metadata": {},
   "outputs": [
    {
     "data": {
      "image/png": "[encoded data removed]",
      "text/plain": [
       "<Figure size 640x480 with 1 Axes>"
      ]
     },
     "metadata": {},
     "output_type": "display_data"
    }
   ],
   "source": [
    "plt.hist(probs_stat2_ko[:,3].detach().cpu().numpy(), bins=100, alpha=0.5, label=\"STAT2 KO\");"
   ]
  },
  {
   "cell_type": "code",
   "execution_count": 56,
   "metadata": {},
   "outputs": [
    {
     "data": {
      "text/plain": [
       "(3, 6760)"
      ]
     },
     "execution_count": 56,
     "metadata": {},
     "output_type": "execute_result"
    }
   ],
   "source": [
    "control_adata.var['gene_symbols'].to_list().index(\"ISG15\"), control_adata.var['gene_symbols'].to_list().index(\"STAT2\") "
   ]
  },
  {
   "cell_type": "code",
   "execution_count": 72,
   "metadata": {},
   "outputs": [
    {
     "data": {
      "image/png": "[encoded data removed]",
      "text/plain": [
       "<Figure size 640x480 with 1 Axes>"
      ]
     },
     "metadata": {},
     "output_type": "display_data"
    }
   ],
   "source": [
    "# isg15_counts = control_adata.X[:,[3,6760]].toarray()[:0]\n",
    "# stat2_counts = control_adata.X[:,[3,6760]].toarray()[:1]\n",
    "\n",
    "plt.hist(control_adata.X[:,[3,6760]].toarray()[:,0], bins=100, alpha=0.5, label=\"ISG15\");\n",
    "#plt.hist(stat2_counts, bins=100, alpha=0.5, label=\"STAT2\");\n"
   ]
  },
  {
   "cell_type": "code",
   "execution_count": 73,
   "metadata": {},
   "outputs": [
    {
     "data": {
      "image/png": "[encoded data removed]",
      "text/plain": [
       "<Figure size 640x480 with 1 Axes>"
      ]
     },
     "metadata": {},
     "output_type": "display_data"
    }
   ],
   "source": [
    "plt.hist(control_adata.X[:,[3,6760]].toarray()[:,1], bins=100, alpha=0.5, label=\"ISG15\");\n"
   ]
  },
  {
   "cell_type": "code",
   "execution_count": null,
   "metadata": {},
   "outputs": [],
   "source": []
  }
 ],
 "metadata": {
  "kernelspec": {
   "display_name": "diff_model",
   "language": "python",
   "name": "python3"
  },
  "language_info": {
   "codemirror_mode": {
    "name": "ipython",
    "version": 3
   },
   "file_extension": ".py",
   "mimetype": "text/x-python",
   "name": "python",
   "nbconvert_exporter": "python",
   "pygments_lexer": "ipython3",
   "version": "3.8.15"
  }
 },
 "nbformat": 4,
 "nbformat_minor": 2
}
